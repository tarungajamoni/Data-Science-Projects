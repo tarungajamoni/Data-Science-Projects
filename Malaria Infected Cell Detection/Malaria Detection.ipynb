{
 "cells": [
  {
   "cell_type": "markdown",
   "id": "1ff59d9b",
   "metadata": {},
   "source": [
    "# Importing Libraries"
   ]
  },
  {
   "cell_type": "code",
   "execution_count": 1,
   "id": "f93a99d2",
   "metadata": {},
   "outputs": [
    {
     "name": "stderr",
     "output_type": "stream",
     "text": [
      "<frozen importlib._bootstrap>:228: RuntimeWarning: scipy._lib.messagestream.MessageStream size changed, may indicate binary incompatibility. Expected 56 from C header, got 64 from PyObject\n"
     ]
    }
   ],
   "source": [
    "import os\n",
    "import cv2\n",
    "import copy\n",
    "import csv\n",
    "import random\n",
    "import pickle\n",
    "import numpy as np\n",
    "import pandas as pd\n",
    "import itertools\n",
    "from scipy.stats import randint\n",
    "from itertools import cycle\n",
    "import matplotlib.pyplot as plt\n",
    "from matplotlib.pyplot import figure"
   ]
  },
  {
   "cell_type": "code",
   "execution_count": 3,
   "id": "d21d88b6",
   "metadata": {},
   "outputs": [],
   "source": [
    "from sklearn import preprocessing\n",
    "from sklearn.manifold import TSNE\n",
    "from sklearn.decomposition import TruncatedSVD\n",
    "from sklearn import metrics\n",
    "from sklearn.model_selection import train_test_split\n",
    "from sklearn import preprocessing\n",
    "from scipy.sparse import csr_matrix\n",
    "from scipy import stats\n",
    "from sklearn.model_selection import GridSearchCV\n",
    "from sklearn.model_selection import RandomizedSearchCV"
   ]
  },
  {
   "cell_type": "code",
   "execution_count": 4,
   "id": "289ca69f",
   "metadata": {},
   "outputs": [],
   "source": [
    "from sklearn import svm\n",
    "from sklearn.neural_network import MLPClassifier\n",
    "from xgboost import XGBClassifier\n",
    "from sklearn.naive_bayes import GaussianNB\n",
    "from sklearn.neighbors import KNeighborsClassifier\n",
    "from sklearn.ensemble import BaggingClassifier, RandomForestClassifier, AdaBoostClassifier\n",
    "from sklearn.discriminant_analysis import LinearDiscriminantAnalysis as LDA\n",
    "from sklearn.decomposition import PCA\n",
    "from skimage.feature import hog, local_binary_pattern"
   ]
  },
  {
   "cell_type": "markdown",
   "id": "a9233484",
   "metadata": {},
   "source": [
    "# Defining Functions"
   ]
  },
  {
   "cell_type": "code",
   "execution_count": 5,
   "id": "fd0f5e06",
   "metadata": {},
   "outputs": [],
   "source": [
    "def write_csv(file, a1, a2, a3, a4, a5, a6, a7, name):\n",
    "    with open(file, mode='w') as csv_file:\n",
    "        csv_writer = csv.writer(csv_file, delimiter=',', quotechar='\"', quoting=csv.QUOTE_MINIMAL)\n",
    "        csv_writer.writerow(name)\n",
    "        for i in range(20):\n",
    "            if a2[i] == None:\n",
    "                a2[i] = 'None'\n",
    "            if a4[i] == None:\n",
    "                a4[i] = 'None'\n",
    "            csv_writer.writerow([a1[i], a2[i], a3[i], a4[i], a5[i], a6[i], a7[i]])"
   ]
  },
  {
   "cell_type": "code",
   "execution_count": 6,
   "id": "03864fad",
   "metadata": {},
   "outputs": [],
   "source": [
    "def read_images(path):\n",
    "    images = []\n",
    "    labels = []\n",
    "    num1 = 32\n",
    "    num2 = 32\n",
    "    for file_name in os.listdir(path):\n",
    "        file_path = path + '/' + file_name\n",
    "        for img_name in os.listdir(file_path):\n",
    "            if not img_name.startswith('.'):\n",
    "                if img_name.endswith('.png'):\n",
    "                    img = cv2.imread(file_path + '/' + img_name)\n",
    "                    new_img = cv2.resize(img, (num2, num1))\n",
    "                    images.append(new_img)\n",
    "                    if file_name == 'Parasitized':\n",
    "                        label = 0\n",
    "                    else:\n",
    "                        label = 1\n",
    "                    labels.append(label)\n",
    "    \n",
    "    return np.array(images), np.array(labels)"
   ]
  },
  {
   "cell_type": "code",
   "execution_count": 7,
   "id": "ad7856ba",
   "metadata": {},
   "outputs": [],
   "source": [
    "def save_feature(feature, name):\n",
    "    # saving all our feature vectors in pickled file\n",
    "    with open('cache/' + name + '.pkl', 'wb') as fp:\n",
    "        pickle.dump(csr_matrix(feature), fp)\n",
    "    \n",
    "    print(f'Feature saved with name cache/{name}.pkl')\n",
    "\n",
    "def load_feature(feature_name):\n",
    "    return pickle.load(open(feature_name, 'rb')).A"
   ]
  },
  {
   "cell_type": "code",
   "execution_count": 8,
   "id": "10590691",
   "metadata": {},
   "outputs": [],
   "source": [
    "def save_model(model):\n",
    "    filename = input('Enter model file name:')\n",
    "    pickle.dump(model, open('models/'+filename + '.pkl', 'wb'))\n",
    "    print(f'Successfully saved model in models/{filename}.pkl')\n",
    "\n",
    "def load_model(model_name):\n",
    "    return pickle.load(open(model_name, 'rb'))"
   ]
  },
  {
   "cell_type": "markdown",
   "id": "94cbb948",
   "metadata": {},
   "source": [
    "Flattened Image Feature"
   ]
  },
  {
   "cell_type": "code",
   "execution_count": 9,
   "id": "c98894d3",
   "metadata": {},
   "outputs": [],
   "source": [
    "def get_flattened(images, color=cv2.COLOR_RGB2GRAY, name='flattened', save=False):\n",
    "    \"\"\"\n",
    "    color: default RGB2GRAY, if None is passed then color is used as it is.\n",
    "    \"\"\"\n",
    "    color_images = []\n",
    "    if color is not None:\n",
    "        for img in images:\n",
    "            color_images.append(cv2.cvtColor(img, color))\n",
    "    else:\n",
    "        color_images = images\n",
    "    \n",
    "    count = len(color_images)\n",
    "    \n",
    "    result = np.array(color_images).reshape(count, -1)\n",
    "    \n",
    "    if save:\n",
    "        save_feature(result, name)\n",
    "        \n",
    "    return result"
   ]
  },
  {
   "cell_type": "markdown",
   "id": "df510669",
   "metadata": {},
   "source": [
    "Color Histograms Feature"
   ]
  },
  {
   "cell_type": "code",
   "execution_count": 10,
   "id": "4914f1f8",
   "metadata": {},
   "outputs": [],
   "source": [
    "def get_color_hist(images, name='color_hist', save=False):\n",
    "    histograms = []\n",
    "    for img in images:\n",
    "        histograms.append(cv2.calcHist([img], [0, 1, 2],None, [8, 8, 8], [0, 256, 0, 256, 0, 256]).flatten())\n",
    "    \n",
    "    result = np.array(histograms)\n",
    "    \n",
    "    if save:\n",
    "        save_feature(result, name)\n",
    "        \n",
    "    return result"
   ]
  },
  {
   "cell_type": "markdown",
   "id": "3416a9b9",
   "metadata": {},
   "source": [
    "HOG based Features"
   ]
  },
  {
   "cell_type": "code",
   "execution_count": 11,
   "id": "a79e6432",
   "metadata": {},
   "outputs": [],
   "source": [
    "def get_hog(images, name='hog', save=False):\n",
    "    result = np.array([hog(img, block_norm='L2') for img in images])\n",
    "    \n",
    "    if save:\n",
    "        save_feature(result, name)\n",
    "        \n",
    "    return result"
   ]
  },
  {
   "cell_type": "markdown",
   "id": "d7f38243",
   "metadata": {},
   "source": [
    "KAZE based features"
   ]
  },
  {
   "cell_type": "code",
   "execution_count": 12,
   "id": "d513b763",
   "metadata": {},
   "outputs": [],
   "source": [
    "def get_kaze(images, name='kaze', save=False):\n",
    "    # KAZE descriptor for 1 image\n",
    "    def get_image_kaze(image, vector_size=32):\n",
    "        alg = cv2.KAZE_create()\n",
    "        kps = alg.detect(image)\n",
    "        kps = sorted(kps, key=lambda x: -x.response)[:vector_size]\n",
    "        \n",
    "        # Making descriptor of same size\n",
    "        # Descriptor vector size is 64\n",
    "        needed_size = (vector_size * 64)\n",
    "        if len(kps) == 0:\n",
    "            return np.zeros(needed_size)\n",
    "        \n",
    "        kps, dsc = alg.compute(image, kps)\n",
    "        dsc = dsc.flatten()\n",
    "        \n",
    "        if dsc.size < needed_size:\n",
    "            # if we have less than 32 descriptors then just adding zeros at the\n",
    "            # end of our feature vector\n",
    "            dsc = np.concatenate([dsc, np.zeros(needed_size - dsc.size)])\n",
    "        return dsc\n",
    "    \n",
    "    # KAZE descriptor for all images\n",
    "    features = []\n",
    "    for i, img in enumerate(images):\n",
    "        dsc = get_image_kaze(img)\n",
    "        features.append(dsc)\n",
    "    \n",
    "    result = np.array(features)\n",
    "    \n",
    "    if save:\n",
    "        save_feature(result, name)\n",
    "        \n",
    "    return result"
   ]
  },
  {
   "cell_type": "markdown",
   "id": "cc453d9d",
   "metadata": {},
   "source": [
    "SIFT based Feature"
   ]
  },
  {
   "cell_type": "code",
   "execution_count": 13,
   "id": "ef793fff",
   "metadata": {},
   "outputs": [],
   "source": [
    "def get_sift(images, name='sift', save=False):\n",
    "    # SIFT descriptor for 1 image\n",
    "    def get_image_sift(image, vector_size=15):\n",
    "        alg = cv2.xfeatures2d.SIFT_create()\n",
    "        kps = alg.detect(image, None)\n",
    "        kps = sorted(kps, key=lambda x: -x.response)[:vector_size]\n",
    "        \n",
    "        # Making descriptor of same size\n",
    "        # Descriptor vector size is 128\n",
    "        needed_size = (vector_size * 128)\n",
    "        if len(kps) == 0:\n",
    "            return np.zeros(needed_size)\n",
    "        \n",
    "        kps, dsc = alg.compute(image, kps)\n",
    "        dsc = dsc.flatten()\n",
    "        if dsc.size < needed_size:\n",
    "            # if we have less than 32 descriptors then just adding zeros at the\n",
    "            # end of our feature vector\n",
    "            dsc = np.concatenate([dsc, np.zeros(needed_size - dsc.size)])\n",
    "            \n",
    "        return dsc\n",
    "    \n",
    "    # SIFT descriptor for all images\n",
    "    features = []\n",
    "    for i, img in enumerate(images):\n",
    "        dsc = get_image_sift(img)\n",
    "        features.append(dsc)\n",
    "\n",
    "    result = np.array(features)\n",
    "    \n",
    "    if save:\n",
    "        save_feature(result, name)\n",
    "        \n",
    "    return result"
   ]
  },
  {
   "cell_type": "code",
   "execution_count": 15,
   "id": "a347b968",
   "metadata": {},
   "outputs": [],
   "source": [
    "def return_sift_kp(image):\n",
    "    alg = cv2.xfeatures2d.SIFT_create()\n",
    "    kps = alg.detect(image, None)\n",
    "    kps = sorted(kps, key=lambda x: -x.response)[:15]\n",
    "\n",
    "    # Making descriptor of same size\n",
    "    # Descriptor vector size is 128\n",
    "    needed_size = (15 * 128)\n",
    "    if len(kps) == 0:\n",
    "        dsc = np.zeros(needed_size)\n",
    "    else:\n",
    "        kps, dsc = alg.compute(image, kps)\n",
    "        dsc = dsc.flatten()\n",
    "        if dsc.size < needed_size:\n",
    "            # if we have less than 32 descriptors then just adding zeros at the\n",
    "            # end of our feature vector\n",
    "            dsc = np.concatenate([dsc, np.zeros(needed_size - dsc.size)])\n",
    "    return kps"
   ]
  },
  {
   "cell_type": "code",
   "execution_count": 16,
   "id": "55686311",
   "metadata": {},
   "outputs": [],
   "source": [
    "def get_surf(images, name='surf', save=False):\n",
    "    # SURF descriptor for 1 image\n",
    "    def get_image_surf(image, vector_size=4):\n",
    "        alg = cv2.xfeatures2d.SURF_create()\n",
    "        kps = alg.detect(image, None)\n",
    "        kps = sorted(kps, key=lambda x: -x.response)[:vector_size]\n",
    "        \n",
    "        # Making descriptor of same size\n",
    "        # Descriptor vector size is 64\n",
    "        needed_size = (vector_size * 64)\n",
    "        if len(kps) == 0:\n",
    "            return np.zeros(needed_size)\n",
    "        \n",
    "        kps, dsc = alg.compute(image, kps)\n",
    "        dsc = dsc.flatten()\n",
    "        if dsc.size < needed_size:\n",
    "            # if we have less than 32 descriptors then just adding zeros at the\n",
    "            # end of our feature vector\n",
    "            dsc = np.concatenate([dsc, np.zeros(needed_size - dsc.size)])\n",
    "            \n",
    "        return dsc\n",
    "    \n",
    "    # SURF descriptor for all images\n",
    "    features = []\n",
    "    for i, img in enumerate(images):\n",
    "        dsc = get_image_surf(img)\n",
    "        features.append(dsc)\n",
    "    \n",
    "    result = np.array(features)\n",
    "    \n",
    "    if save:\n",
    "        save_feature(result, name)\n",
    "        \n",
    "    return result"
   ]
  },
  {
   "cell_type": "code",
   "execution_count": 17,
   "id": "c40e55b3",
   "metadata": {},
   "outputs": [],
   "source": [
    "def return_surf_kp(image):\n",
    "    alg = cv2.xfeatures2d.SURF_create()\n",
    "    kps = alg.detect(image, None)\n",
    "    kps = sorted(kps, key=lambda x: -x.response)[:4]\n",
    "\n",
    "    # Making descriptor of same size\n",
    "    # Descriptor vector size is 64\n",
    "    needed_size = (15 * 64)\n",
    "    if len(kps) == 0:\n",
    "        dsc = np.zeros(needed_size)\n",
    "    else:\n",
    "        kps, dsc = alg.compute(image, kps)\n",
    "        dsc = dsc.flatten()\n",
    "        if dsc.size < needed_size:\n",
    "            # if we have less than 32 descriptors then just adding zeros at the\n",
    "            # end of our feature vector\n",
    "            dsc = np.concatenate([dsc, np.zeros(needed_size - dsc.size)])\n",
    "    return kps"
   ]
  },
  {
   "cell_type": "markdown",
   "id": "e382dd51",
   "metadata": {},
   "source": [
    "LBP Feature"
   ]
  },
  {
   "cell_type": "code",
   "execution_count": 18,
   "id": "43e09c85",
   "metadata": {},
   "outputs": [],
   "source": [
    "def get_lbp(images, name='lbp', save=False):\n",
    "    result = np.array([local_binary_pattern(cv2.cvtColor(img, cv2.COLOR_RGB2GRAY), 10, 3).flatten() for img in images])\n",
    "    \n",
    "    if save:\n",
    "        save_feature(result, name)\n",
    "        \n",
    "    return result"
   ]
  },
  {
   "cell_type": "code",
   "execution_count": 19,
   "id": "6d04365f",
   "metadata": {},
   "outputs": [],
   "source": [
    "def combine_features(features, horizontal=True):\n",
    "    \"\"\"\n",
    "    Array of features [f1, f2, f3] where each fi is a feature set \n",
    "    eg. f1=rgb_flat, f2=SIFT, etc.\n",
    "    \"\"\"\n",
    "    if horizontal:\n",
    "        return np.hstack(features)\n",
    "    else:\n",
    "        return np.vstack(features)"
   ]
  },
  {
   "cell_type": "markdown",
   "id": "4918ba28",
   "metadata": {},
   "source": [
    "Normalize features"
   ]
  },
  {
   "cell_type": "code",
   "execution_count": 20,
   "id": "a7992abc",
   "metadata": {},
   "outputs": [],
   "source": [
    "def norm_features_minmax(train, test):\n",
    "    min_max_scaler = preprocessing.MinMaxScaler()\n",
    "    norm_train = min_max_scaler.fit_transform(train)\n",
    "    norm_test = min_max_scaler.transform(test)\n",
    "    \n",
    "    return norm_train, norm_test"
   ]
  },
  {
   "cell_type": "code",
   "execution_count": 21,
   "id": "f48eb42f",
   "metadata": {},
   "outputs": [],
   "source": [
    "def norm_features_zscore(train, test):\n",
    "    min_max_scaler = preprocessing.StandardScaler()\n",
    "    norm_train = min_max_scaler.fit_transform(train)\n",
    "    norm_test = min_max_scaler.transform(test)\n",
    "    \n",
    "    return norm_train, norm_test"
   ]
  },
  {
   "cell_type": "markdown",
   "id": "ebe396cb",
   "metadata": {},
   "source": [
    "Classifiers"
   ]
  },
  {
   "cell_type": "code",
   "execution_count": 22,
   "id": "a6a987b7",
   "metadata": {},
   "outputs": [],
   "source": [
    "def train_model(train_x, train_y, model_name='NB', validation=None):\n",
    "    \"\"\"\n",
    "    Possible model names: ['NB', 'SVM', 'XGB', 'MLP', 'ADA', 'BAG', 'RF']\n",
    "    default = 'NB'\n",
    "    \n",
    "    validation: (val_x, val_y) tupple for validation accuracy score.\n",
    "    \n",
    "    return: trained model\n",
    "    \"\"\"\n",
    "    model = None\n",
    "    if model_name == 'SVM':\n",
    "        model = svm.SVC(gamma='scale', probability=True)\n",
    "    elif model_name == 'XGB':\n",
    "        model = XGBClassifier(n_estimators=200, max_depth=5, n_jobs=2)\n",
    "#         model = XGBClassifier()\n",
    "    elif model_name == 'MLP':\n",
    "        model = MLPClassifier(hidden_layer_sizes=(100,100,100), max_iter=800, alpha=0.0001,\n",
    "                     solver='sgd', verbose=10, tol=0.000000001)\n",
    "    elif model_name == 'ADA':\n",
    "        model = AdaBoostClassifier(n_estimators=50)\n",
    "    elif model_name == 'BAG':\n",
    "        model = BaggingClassifier(n_jobs=2, n_estimators=50)\n",
    "    elif model_name == 'RF':\n",
    "        model = RandomForestClassifier(n_estimators=200, max_depth=10)\n",
    "    elif model_name == 'KNN':\n",
    "        model = KNeighborsClassifier(n_neighbors=5, weights='distance', algorithm='auto', leaf_size=30, p=2, metric='minkowski', metric_params=None, n_jobs=None)\n",
    "    else:\n",
    "        model = GaussianNB()\n",
    "    \n",
    "    model.fit(train_x, train_y)\n",
    "    \n",
    "    if validation is not None:\n",
    "        y_hat = model.predict(validation[0])\n",
    "        acc = metrics.accuracy_score(validation[1], y_hat)\n",
    "        print(f\"Validation Accuracy in '{model_name}' = {acc}\")\n",
    "        cm = metrics.confusion_matrix(validation[1], y_hat)\n",
    "        print(cm)\n",
    "        recall = cm[0][0] / (cm[0][0] + cm[0][1])\n",
    "        precision = cm[0][0] / (cm[0][0] + cm[1][0])\n",
    "        f1 = 2*(precision*recall)/(precision+recall)\n",
    "        print(f\"Recall in '{model_name}' = {recall}\")\n",
    "        print(f\"Precision in '{model_name}' = {precision}\")\n",
    "        print(f\"F1 Score in '{model_name}' = {f1}\")\n",
    "               \n",
    "    return model"
   ]
  },
  {
   "cell_type": "markdown",
   "id": "f70c4fae",
   "metadata": {},
   "source": [
    "ROC"
   ]
  },
  {
   "cell_type": "code",
   "execution_count": 23,
   "id": "26a991bd",
   "metadata": {},
   "outputs": [],
   "source": [
    "def plot_roc(fpr, tpr, class_name, area):\n",
    "    figure(num=None, figsize=(12, 6), dpi=80, facecolor='w', edgecolor='k')\n",
    "    \n",
    "    plt.plot(fpr,tpr)\n",
    "\n",
    "    plt.xlabel('False Positive Rate')\n",
    "    plt.ylabel('True Positive Rate')\n",
    "\n",
    "    plt.show()"
   ]
  },
  {
   "cell_type": "code",
   "execution_count": 24,
   "id": "d087dc91",
   "metadata": {},
   "outputs": [],
   "source": [
    "def plot_combine_roc(test_y, prob):\n",
    "    n_classes = 7\n",
    "    name_arr = ['RF', 'BAG', 'ADA', 'NB', 'SVM', 'XGB', 'KNN']\n",
    "    fpr = dict()\n",
    "    tpr = dict()\n",
    "    roc_auc = dict()\n",
    "    for i in range(n_classes):\n",
    "        fpr[i], tpr[i], _ = metrics.roc_curve(test_y, prob[:, i])\n",
    "        roc_auc[i] = metrics.roc_auc_score(test_y,  prob[:, i])\n",
    "\n",
    "    figure(num=None, figsize=(12, 6), dpi=80, facecolor='w', edgecolor='k')\n",
    "    colors = cycle(['darkorange', 'cornflowerblue', 'red', 'purple', 'pink', 'violet', 'green'])\n",
    "    for i, color in zip(range(n_classes), colors):\n",
    "        plt.plot(fpr[i], tpr[i], color=color,\n",
    "                 label='ROC curve for ' + name_arr[i] + ' class (area = {1:0.2f})'\n",
    "                 ''.format(i, roc_auc[i]))\n",
    "\n",
    "    plt.xlabel('False Positive Rate')\n",
    "    plt.ylabel('True Positive Rate')\n",
    "    plt.legend()\n",
    "#     plt.savefig('output/roc_lda_on_pca_uninfected.png')\n",
    "    plt.show()"
   ]
  },
  {
   "cell_type": "markdown",
   "id": "e9ee0c44",
   "metadata": {},
   "source": [
    "Confusion Matrix"
   ]
  },
  {
   "cell_type": "code",
   "execution_count": 25,
   "id": "74f85a55",
   "metadata": {},
   "outputs": [],
   "source": [
    "def confusion_mat(cm, classes, title='Confusion matrix', cmap=plt.cm.Blues, figsize=(7,7), path=None, filename=None):\n",
    "        \"\"\"\n",
    "        cm: confusion matrix to be plotted.\n",
    "        classes: array of labels or class names.\n",
    "        title: title of the confusion matrix.\n",
    "        cmap: color of the plot matrix.\n",
    "        figsize: tupple (width, height) representiong size of the plot.\n",
    "        path: destination where the plot image will be saved.\n",
    "        filename: name to save the file with on the specified path. (if None, title is used)\n",
    "        \n",
    "        # Source: https://scikit-learn.org/stable/auto_examples/model_selection/plot_confusion_matrix.html\n",
    "        \"\"\"\n",
    "        cm = cm.astype(np.int64)\n",
    "        plt.figure(figsize=figsize)\n",
    "        plt.imshow(cm, interpolation='nearest', cmap=cmap)\n",
    "        plt.title(title)\n",
    "        plt.colorbar()\n",
    "        tick_marks = np.arange(len(classes))\n",
    "        plt.xticks(tick_marks, classes, rotation=45)\n",
    "        plt.yticks(tick_marks, classes)\n",
    "\n",
    "        fmt = 'd'\n",
    "        thresh = cm.max() / 2.\n",
    "        for i, j in itertools.product(range(cm.shape[0]), range(cm.shape[1])):\n",
    "            plt.text(j, i, format(cm[i, j], fmt),\n",
    "                     horizontalalignment=\"center\",\n",
    "                     color=\"white\" if cm[i, j] > thresh else \"black\")\n",
    "        plt.grid(False)\n",
    "        plt.ylabel('True label')\n",
    "        plt.xlabel('Predicted label')\n",
    "        plt.tight_layout()\n",
    "        \n",
    "        if path:\n",
    "            if filename is None:\n",
    "                plt.savefig(path + title + '.png')\n",
    "            else:\n",
    "                plt.savefig(path + filename + '.png')\n",
    "        plt.show()"
   ]
  },
  {
   "cell_type": "markdown",
   "id": "97eadb44",
   "metadata": {},
   "source": [
    "PCA projected data"
   ]
  },
  {
   "cell_type": "code",
   "execution_count": 26,
   "id": "94cbaaac",
   "metadata": {},
   "outputs": [],
   "source": [
    "def pca_projection(mat, name_arr):\n",
    "    plt.figure(figsize=(15,20))\n",
    "    for i, img in enumerate(mat, start=1):\n",
    "        plt.subplot(4, 2, i)\n",
    "        y = np.var(mat[i-1], axis=0)\n",
    "        x = list(range(1, len(y)+1))\n",
    "        plt.plot(x, y, '--o')\n",
    "        plt.ylabel('Variance')\n",
    "        plt.xlabel('Data Projected on Eigen Vector Number')\n",
    "        plt.xticks(x)\n",
    "        plt.title(name_arr[i-1])\n",
    "    plt.savefig('output/pca/subplot.jpg')\n",
    "    plt.show()"
   ]
  },
  {
   "cell_type": "code",
   "execution_count": 27,
   "id": "90aa6ec5",
   "metadata": {},
   "outputs": [],
   "source": [
    "def draw_key_points(image, kp):\n",
    "    img = cv2.drawKeypoints(image, kp, None, flags=cv2.DRAW_MATCHES_FLAGS_DRAW_RICH_KEYPOINTS)\n",
    "    return img"
   ]
  },
  {
   "cell_type": "markdown",
   "id": "131e9fce",
   "metadata": {},
   "source": [
    "# Data Preparation"
   ]
  },
  {
   "cell_type": "code",
   "execution_count": 28,
   "id": "17bff7df",
   "metadata": {},
   "outputs": [],
   "source": [
    "full_data_x, full_data_y = read_images('cell_images')"
   ]
  },
  {
   "cell_type": "code",
   "execution_count": 29,
   "id": "9b5ffd6d",
   "metadata": {},
   "outputs": [
    {
     "data": {
      "text/plain": [
       "((27558, 32, 32, 3), (27558,))"
      ]
     },
     "execution_count": 29,
     "metadata": {},
     "output_type": "execute_result"
    }
   ],
   "source": [
    "full_data_x.shape, full_data_y.shape"
   ]
  },
  {
   "cell_type": "code",
   "execution_count": 30,
   "id": "b4cfa877",
   "metadata": {},
   "outputs": [
    {
     "data": {
      "text/plain": [
       "(32, 32, 3)"
      ]
     },
     "execution_count": 30,
     "metadata": {},
     "output_type": "execute_result"
    }
   ],
   "source": [
    "full_data_x[2].shape"
   ]
  },
  {
   "cell_type": "code",
   "execution_count": 31,
   "id": "bb810ede",
   "metadata": {},
   "outputs": [],
   "source": [
    "data_x, test_x, data_y, test_y = train_test_split(full_data_x, full_data_y, test_size=0.2)\n"
   ]
  },
  {
   "cell_type": "code",
   "execution_count": 32,
   "id": "70097be5",
   "metadata": {},
   "outputs": [
    {
     "data": {
      "text/plain": [
       "((22046, 32, 32, 3), (5512, 32, 32, 3), (22046,), (5512,))"
      ]
     },
     "execution_count": 32,
     "metadata": {},
     "output_type": "execute_result"
    }
   ],
   "source": [
    "data_x.shape, test_x.shape, data_y.shape, test_y.shape\n"
   ]
  },
  {
   "cell_type": "code",
   "execution_count": 33,
   "id": "1e381444",
   "metadata": {},
   "outputs": [],
   "source": [
    "train_imgs, val_imgs, train_y, val_y = train_test_split(data_x, data_y, test_size=0.2)\n"
   ]
  },
  {
   "cell_type": "code",
   "execution_count": 34,
   "id": "0b317591",
   "metadata": {},
   "outputs": [
    {
     "data": {
      "text/plain": [
       "((17636, 32, 32, 3), (4410, 32, 32, 3), (17636,), (4410,))"
      ]
     },
     "execution_count": 34,
     "metadata": {},
     "output_type": "execute_result"
    }
   ],
   "source": [
    "train_imgs.shape, val_imgs.shape, train_y.shape, val_y.shape\n"
   ]
  },
  {
   "cell_type": "code",
   "execution_count": 35,
   "id": "31b8198b",
   "metadata": {},
   "outputs": [],
   "source": [
    "np.save('data/train_imgs.npy', train_imgs)\n",
    "np.save('data/train_y.npy', train_y)\n",
    "np.save('data/val_imgs.npy', val_imgs)\n",
    "np.save('data/val_y.npy', val_y)\n",
    "\n",
    "np.save('data/data_x.npy', data_x)\n",
    "np.save('data/data_y.npy', data_y)\n",
    "np.save('data/test_x.npy', test_x)\n",
    "np.save('data/test_y.npy', test_y)"
   ]
  },
  {
   "cell_type": "code",
   "execution_count": 36,
   "id": "d0757d1b",
   "metadata": {},
   "outputs": [],
   "source": [
    "train_imgs = np.load('data/train_imgs.npy')\n",
    "train_y = np.load('data/train_y.npy')\n",
    "val_imgs = np.load('data/val_imgs.npy')\n",
    "val_y = np.load('data/val_y.npy')\n",
    "\n",
    "data_x = np.load('data/data_x.npy')\n",
    "data_y = np.load('data/data_y.npy')\n",
    "test_x = np.load('data/test_x.npy')\n",
    "test_y = np.load('data/test_y.npy')"
   ]
  },
  {
   "cell_type": "code",
   "execution_count": 37,
   "id": "436db59a",
   "metadata": {},
   "outputs": [
    {
     "data": {
      "text/plain": [
       "((22046, 32, 32, 3), (5512, 32, 32, 3), (22046,), (5512,))"
      ]
     },
     "execution_count": 37,
     "metadata": {},
     "output_type": "execute_result"
    }
   ],
   "source": [
    "data_x.shape, test_x.shape, data_y.shape, test_y.shape"
   ]
  },
  {
   "cell_type": "code",
   "execution_count": 38,
   "id": "bb244ad6",
   "metadata": {},
   "outputs": [
    {
     "data": {
      "text/plain": [
       "((17636, 32, 32, 3), (4410, 32, 32, 3), (17636,), (4410,))"
      ]
     },
     "execution_count": 38,
     "metadata": {},
     "output_type": "execute_result"
    }
   ],
   "source": [
    "train_imgs.shape, val_imgs.shape, train_y.shape, val_y.shape"
   ]
  },
  {
   "cell_type": "code",
   "execution_count": 39,
   "id": "98962d0a",
   "metadata": {},
   "outputs": [],
   "source": [
    "infected_img = train_imgs[train_y == 0][8]\n",
    "uninfected_img = train_imgs[train_y == 1][4]\n",
    "classes = []\n",
    "classes.append(infected_img)\n",
    "classes.append(uninfected_img)\n",
    "class_label= []\n",
    "class_label.append('infected image')\n",
    "class_label.append('uninfected image')"
   ]
  },
  {
   "cell_type": "code",
   "execution_count": 40,
   "id": "7f49b84e",
   "metadata": {
    "scrolled": true
   },
   "outputs": [],
   "source": [
    "vis_img = np.zeros((2, 32, 32))\n",
    "lbp_img = np.zeros((2, 32, 32))\n",
    "sift = np.zeros((2, 32, 32, 3), dtype='uint8')\n",
    "#surf = np.zeros((2, 32, 32, 3), dtype='uint8')\n",
    "\n",
    "for i in range(2):\n",
    "    temp1, vis_img[i] = hog(classes[i], block_norm='L2', visualize=True)\n",
    "    lbp_img[i] = local_binary_pattern(cv2.cvtColor(classes[i], cv2.COLOR_RGB2GRAY), 10, 3)\n",
    "    sift[i] = draw_key_points(cv2.cvtColor(classes[i], cv2.COLOR_RGB2GRAY), return_sift_kp(classes[i]))\n",
    "    #surf[i] = draw_key_points(cv2.cvtColor(classes[i], cv2.COLOR_RGB2GRAY), return_surf_kp(classes[i]))"
   ]
  },
  {
   "cell_type": "code",
   "execution_count": 41,
   "id": "219d5ff1",
   "metadata": {},
   "outputs": [],
   "source": [
    "data_vis = []\n",
    "for i in range(len(classes)):\n",
    "    data_vis.append(classes[i])\n",
    "for i in range(len(classes)):\n",
    "    data_vis.append(vis_img[i])\n",
    "for i in range(len(classes)):\n",
    "    data_vis.append(lbp_img[i])\n",
    "for i in range(len(classes)):\n",
    "    data_vis.append(sift[i])\n",
    "#for i in range(len(classes)):\n",
    " #   data_vis.append(surf[i])\n",
    "\n",
    "img_name_arr = []\n",
    "for i in range(len(classes)):\n",
    "    img_name_arr.append(class_label[i])\n",
    "for i in range(len(classes)):\n",
    "    img_name_arr.append('HOG')\n",
    "for i in range(len(classes)):\n",
    "    img_name_arr.append('LBP')\n",
    "for i in range(len(classes)):\n",
    "    img_name_arr.append('SIFT')\n",
    "#for i in range(len(classes)):\n",
    "#    img_name_arr.append('SURF')"
   ]
  },
  {
   "cell_type": "code",
   "execution_count": 42,
   "id": "786218ca",
   "metadata": {},
   "outputs": [
    {
     "data": {
      "image/png": "[encoded data removed]",
      "text/plain": [
       "<Figure size 400x1000 with 8 Axes>"
      ]
     },
     "metadata": {},
     "output_type": "display_data"
    }
   ],
   "source": [
    "plt.figure(figsize=(4,10))\n",
    "for i, img in enumerate(data_vis, start=1):\n",
    "    plt.subplot(5, 2, i)\n",
    "    plt.title(img_name_arr[i-1])\n",
    "    frame1 = plt.gca()\n",
    "    for tick in frame1.axes.get_xticklines():\n",
    "        tick.set_visible(False)\n",
    "    for tick in frame1.axes.get_yticklines():\n",
    "        tick.set_visible(False)\n",
    "    for xlabel_i in frame1.axes.get_xticklabels():\n",
    "        xlabel_i.set_visible(False)\n",
    "    for xlabel_i in frame1.axes.get_yticklabels():\n",
    "        xlabel_i.set_visible(False)\n",
    "    plt.imshow(data_vis[i-1], cmap='gray')\n",
    "plt.savefig('output/feature_visualization.png')\n",
    "plt.show()"
   ]
  },
  {
   "cell_type": "code",
   "execution_count": 43,
   "id": "d44cc13f",
   "metadata": {},
   "outputs": [
    {
     "name": "stdout",
     "output_type": "stream",
     "text": [
      "Feature saved with name cache/hog_train.pkl\n",
      "Feature saved with name cache/hog_val.pkl\n"
     ]
    }
   ],
   "source": [
    "hog_train = get_hog(train_imgs, name='hog_train', save=True)\n",
    "hog_val = get_hog(val_imgs, name='hog_val', save=True)"
   ]
  },
  {
   "cell_type": "code",
   "execution_count": 44,
   "id": "2e6cc487",
   "metadata": {},
   "outputs": [],
   "source": [
    "hog_train = load_feature('cache/hog_train.pkl')\n",
    "hog_val = load_feature('cache/hog_val.pkl')"
   ]
  },
  {
   "cell_type": "code",
   "execution_count": 45,
   "id": "7315905c",
   "metadata": {},
   "outputs": [
    {
     "data": {
      "text/plain": [
       "((17636, 324), (4410, 324))"
      ]
     },
     "execution_count": 45,
     "metadata": {},
     "output_type": "execute_result"
    }
   ],
   "source": [
    "hog_train.shape, hog_val.shape"
   ]
  },
  {
   "cell_type": "code",
   "execution_count": 46,
   "id": "a85c1a4d",
   "metadata": {},
   "outputs": [
    {
     "name": "stdout",
     "output_type": "stream",
     "text": [
      "Feature saved with name cache/lbp_train.pkl\n",
      "Feature saved with name cache/lbp_val.pkl\n"
     ]
    }
   ],
   "source": [
    "lbp_train = get_lbp(train_imgs, name='lbp_train', save=True)\n",
    "lbp_val = get_lbp(val_imgs, name='lbp_val', save=True)"
   ]
  },
  {
   "cell_type": "code",
   "execution_count": 47,
   "id": "f970495c",
   "metadata": {},
   "outputs": [],
   "source": [
    "lbp_train = load_feature('cache/lbp_train.pkl')\n",
    "lbp_val = load_feature('cache/lbp_val.pkl')"
   ]
  },
  {
   "cell_type": "code",
   "execution_count": 48,
   "id": "9b3dac66",
   "metadata": {},
   "outputs": [
    {
     "data": {
      "text/plain": [
       "((17636, 1024), (4410, 1024))"
      ]
     },
     "execution_count": 48,
     "metadata": {},
     "output_type": "execute_result"
    }
   ],
   "source": [
    "lbp_train.shape, lbp_val.shape"
   ]
  },
  {
   "cell_type": "code",
   "execution_count": 49,
   "id": "e745d121",
   "metadata": {},
   "outputs": [
    {
     "name": "stdout",
     "output_type": "stream",
     "text": [
      "Feature saved with name cache/kaze_train.pkl\n",
      "Feature saved with name cache/kaze_val.pkl\n"
     ]
    }
   ],
   "source": [
    "kaze_train = get_kaze(train_imgs, name='kaze_train', save=True)\n",
    "kaze_val = get_kaze(val_imgs, name='kaze_val', save=True)"
   ]
  },
  {
   "cell_type": "code",
   "execution_count": 50,
   "id": "3ed8f278",
   "metadata": {},
   "outputs": [],
   "source": [
    "kaze_train = load_feature('cache/kaze_train.pkl')\n",
    "kaze_val = load_feature('cache/kaze_val.pkl')"
   ]
  },
  {
   "cell_type": "code",
   "execution_count": 51,
   "id": "208425b3",
   "metadata": {},
   "outputs": [
    {
     "data": {
      "text/plain": [
       "((17636, 2048), (4410, 2048))"
      ]
     },
     "execution_count": 51,
     "metadata": {},
     "output_type": "execute_result"
    }
   ],
   "source": [
    "kaze_train.shape, kaze_val.shape"
   ]
  },
  {
   "cell_type": "code",
   "execution_count": 52,
   "id": "9e4e7584",
   "metadata": {},
   "outputs": [
    {
     "name": "stdout",
     "output_type": "stream",
     "text": [
      "Feature saved with name cache/sift_train.pkl\n",
      "Feature saved with name cache/sift_val.pkl\n"
     ]
    }
   ],
   "source": [
    "sift_train = get_sift(train_imgs, name='sift_train', save=True)\n",
    "sift_val = get_sift(val_imgs, name='sift_val', save=True)"
   ]
  },
  {
   "cell_type": "code",
   "execution_count": 53,
   "id": "9e2fff43",
   "metadata": {},
   "outputs": [],
   "source": [
    "sift_train = load_feature('cache/sift_train.pkl')\n",
    "sift_val = load_feature('cache/sift_val.pkl')"
   ]
  },
  {
   "cell_type": "code",
   "execution_count": 54,
   "id": "0e998ff0",
   "metadata": {},
   "outputs": [
    {
     "data": {
      "text/plain": [
       "((17636, 1920), (4410, 1920))"
      ]
     },
     "execution_count": 54,
     "metadata": {},
     "output_type": "execute_result"
    }
   ],
   "source": [
    "sift_train.shape, sift_val.shape"
   ]
  },
  {
   "cell_type": "code",
   "execution_count": 55,
   "id": "94bf2ace",
   "metadata": {},
   "outputs": [
    {
     "name": "stdout",
     "output_type": "stream",
     "text": [
      "Feature saved with name cache/flat_rgb_train.pkl\n",
      "Feature saved with name cache/flat_rgb_val.pkl\n"
     ]
    }
   ],
   "source": [
    "flat_rgb_train = get_flattened(train_imgs, None, name='flat_rgb_train', save=True)\n",
    "flat_rgb_val = get_flattened(val_imgs, None, name='flat_rgb_val', save=True)"
   ]
  },
  {
   "cell_type": "code",
   "execution_count": 56,
   "id": "9aed53cd",
   "metadata": {},
   "outputs": [],
   "source": [
    "flat_rgb_train = load_feature('cache/flat_rgb_train.pkl')\n",
    "flat_rgb_val = load_feature('cache/flat_rgb_val.pkl')"
   ]
  },
  {
   "cell_type": "code",
   "execution_count": 57,
   "id": "30767a5b",
   "metadata": {},
   "outputs": [
    {
     "data": {
      "text/plain": [
       "((17636, 3072), (4410, 3072))"
      ]
     },
     "execution_count": 57,
     "metadata": {},
     "output_type": "execute_result"
    }
   ],
   "source": [
    "flat_rgb_train.shape, flat_rgb_val.shape"
   ]
  },
  {
   "cell_type": "code",
   "execution_count": 58,
   "id": "fd70a980",
   "metadata": {},
   "outputs": [
    {
     "name": "stdout",
     "output_type": "stream",
     "text": [
      "Feature saved with name cache/flat_gray_train.pkl\n",
      "Feature saved with name cache/flat_gray_val.pkl\n"
     ]
    }
   ],
   "source": [
    "flat_gray_train = get_flattened(train_imgs, name='flat_gray_train', save=True)\n",
    "flat_gray_val = get_flattened(val_imgs, name='flat_gray_val', save=True)"
   ]
  },
  {
   "cell_type": "code",
   "execution_count": 59,
   "id": "1fcbffa9",
   "metadata": {},
   "outputs": [],
   "source": [
    "flat_gray_train = load_feature('cache/flat_gray_train.pkl')\n",
    "flat_gray_val = load_feature('cache/flat_gray_val.pkl')"
   ]
  },
  {
   "cell_type": "code",
   "execution_count": 60,
   "id": "9881dfef",
   "metadata": {},
   "outputs": [
    {
     "data": {
      "text/plain": [
       "((17636, 1024), (4410, 1024))"
      ]
     },
     "execution_count": 60,
     "metadata": {},
     "output_type": "execute_result"
    }
   ],
   "source": [
    "flat_gray_train.shape, flat_gray_val.shape"
   ]
  },
  {
   "cell_type": "code",
   "execution_count": 61,
   "id": "a773869d",
   "metadata": {},
   "outputs": [
    {
     "name": "stdout",
     "output_type": "stream",
     "text": [
      "Feature saved with name cache/hist_train.pkl\n",
      "Feature saved with name cache/hist_val.pkl\n"
     ]
    }
   ],
   "source": [
    "hist_train = get_color_hist(train_imgs, name='hist_train', save=True)\n",
    "hist_val = get_color_hist(val_imgs, name='hist_val', save=True)"
   ]
  },
  {
   "cell_type": "code",
   "execution_count": 62,
   "id": "57a85668",
   "metadata": {},
   "outputs": [],
   "source": [
    "hist_train = load_feature('cache/hist_train.pkl')\n",
    "hist_val = load_feature('cache/hist_val.pkl')"
   ]
  },
  {
   "cell_type": "code",
   "execution_count": 63,
   "id": "f7e6539a",
   "metadata": {},
   "outputs": [
    {
     "data": {
      "text/plain": [
       "((17636, 512), (4410, 512))"
      ]
     },
     "execution_count": 63,
     "metadata": {},
     "output_type": "execute_result"
    }
   ],
   "source": [
    "hist_train.shape, hist_val.shape"
   ]
  },
  {
   "cell_type": "markdown",
   "id": "23fd9e1b",
   "metadata": {},
   "source": [
    "# Reduce Features by PCA"
   ]
  },
  {
   "cell_type": "code",
   "execution_count": 64,
   "id": "4f24d0f6",
   "metadata": {},
   "outputs": [],
   "source": [
    "norm_hog_train, norm_hog_val = norm_features_zscore(hog_train, hog_val)"
   ]
  },
  {
   "cell_type": "code",
   "execution_count": 65,
   "id": "01d1eb37",
   "metadata": {},
   "outputs": [],
   "source": [
    "pca = PCA(n_components=10)\n",
    "pca_hog_train = pca.fit_transform(norm_hog_train)\n",
    "pca_hog_val = pca.transform(norm_hog_val)"
   ]
  },
  {
   "cell_type": "code",
   "execution_count": 66,
   "id": "83c682bb",
   "metadata": {},
   "outputs": [],
   "source": [
    "np.save('cache/pca_hog_train.npy', pca_hog_train)\n",
    "np.save('cache/pca_hog_val.npy', pca_hog_val)"
   ]
  },
  {
   "cell_type": "code",
   "execution_count": 67,
   "id": "c724f3ea",
   "metadata": {},
   "outputs": [],
   "source": [
    "pca_hog_train = np.load('cache/pca_hog_train.npy')\n",
    "pca_hog_val = np.load('cache/pca_hog_val.npy')"
   ]
  },
  {
   "cell_type": "code",
   "execution_count": 68,
   "id": "eda4c8c2",
   "metadata": {},
   "outputs": [
    {
     "data": {
      "text/plain": [
       "((17636, 10), (4410, 10))"
      ]
     },
     "execution_count": 68,
     "metadata": {},
     "output_type": "execute_result"
    }
   ],
   "source": [
    "pca_hog_train.shape, pca_hog_val.shape"
   ]
  },
  {
   "cell_type": "code",
   "execution_count": 69,
   "id": "ae7a764f",
   "metadata": {},
   "outputs": [],
   "source": [
    "norm_lbp_train, norm_lbp_val = norm_features_zscore(lbp_train, lbp_val)"
   ]
  },
  {
   "cell_type": "code",
   "execution_count": 70,
   "id": "11a32f58",
   "metadata": {},
   "outputs": [],
   "source": [
    "pca = PCA(n_components=10)\n",
    "pca_lbp_train = pca.fit_transform(norm_lbp_train)\n",
    "pca_lbp_val = pca.transform(norm_lbp_val)"
   ]
  },
  {
   "cell_type": "code",
   "execution_count": 71,
   "id": "138da29d",
   "metadata": {},
   "outputs": [],
   "source": [
    "np.save('cache/pca_lbp_train.npy', pca_lbp_train)\n",
    "np.save('cache/pca_lbp_val.npy', pca_lbp_val)"
   ]
  },
  {
   "cell_type": "code",
   "execution_count": 72,
   "id": "175b40ff",
   "metadata": {},
   "outputs": [],
   "source": [
    "pca_lbp_train = np.load('cache/pca_lbp_train.npy')\n",
    "pca_lbp_val = np.load('cache/pca_lbp_val.npy')"
   ]
  },
  {
   "cell_type": "code",
   "execution_count": 73,
   "id": "cae66c97",
   "metadata": {},
   "outputs": [
    {
     "data": {
      "text/plain": [
       "((17636, 10), (4410, 10))"
      ]
     },
     "execution_count": 73,
     "metadata": {},
     "output_type": "execute_result"
    }
   ],
   "source": [
    "pca_lbp_train.shape, pca_lbp_val.shape"
   ]
  },
  {
   "cell_type": "code",
   "execution_count": 74,
   "id": "2b3277ff",
   "metadata": {},
   "outputs": [],
   "source": [
    "norm_kaze_train, norm_kaze_val = norm_features_zscore(kaze_train, kaze_val)"
   ]
  },
  {
   "cell_type": "code",
   "execution_count": 75,
   "id": "bc31bc2e",
   "metadata": {},
   "outputs": [],
   "source": [
    "pca = PCA(n_components=10)\n",
    "pca_kaze_train = pca.fit_transform(norm_kaze_train)\n",
    "pca_kaze_val = pca.transform(norm_kaze_val)"
   ]
  },
  {
   "cell_type": "code",
   "execution_count": 76,
   "id": "ee73f172",
   "metadata": {},
   "outputs": [],
   "source": [
    "np.save('cache/pca_kaze_train.npy', pca_kaze_train)\n",
    "np.save('cache/pca_kaze_val.npy', pca_kaze_val)"
   ]
  },
  {
   "cell_type": "code",
   "execution_count": 77,
   "id": "9fd6fa3f",
   "metadata": {},
   "outputs": [],
   "source": [
    "pca_kaze_train = np.load('cache/pca_kaze_train.npy')\n",
    "pca_kaze_val = np.load('cache/pca_kaze_val.npy')"
   ]
  },
  {
   "cell_type": "code",
   "execution_count": 78,
   "id": "f6a455c2",
   "metadata": {},
   "outputs": [
    {
     "data": {
      "text/plain": [
       "((17636, 10), (4410, 10))"
      ]
     },
     "execution_count": 78,
     "metadata": {},
     "output_type": "execute_result"
    }
   ],
   "source": [
    "pca_kaze_train.shape, pca_kaze_val.shape"
   ]
  },
  {
   "cell_type": "code",
   "execution_count": 79,
   "id": "07b7b020",
   "metadata": {},
   "outputs": [],
   "source": [
    "norm_sift_train, norm_sift_val = norm_features_zscore(sift_train, sift_val)"
   ]
  },
  {
   "cell_type": "code",
   "execution_count": 80,
   "id": "f3a734f5",
   "metadata": {},
   "outputs": [],
   "source": [
    "pca = PCA(n_components=5)\n",
    "pca_sift_train = pca.fit_transform(norm_sift_train)\n",
    "pca_sift_val = pca.transform(norm_sift_val)"
   ]
  },
  {
   "cell_type": "code",
   "execution_count": 81,
   "id": "4fc3c011",
   "metadata": {},
   "outputs": [],
   "source": [
    "np.save('cache/pca_sift_train.npy', pca_sift_train)\n",
    "np.save('cache/pca_sift_val.npy', pca_sift_val)"
   ]
  },
  {
   "cell_type": "code",
   "execution_count": 82,
   "id": "dc285390",
   "metadata": {},
   "outputs": [],
   "source": [
    "pca_sift_train = np.load('cache/pca_sift_train.npy')\n",
    "pca_sift_val = np.load('cache/pca_sift_val.npy')"
   ]
  },
  {
   "cell_type": "code",
   "execution_count": 83,
   "id": "d96b8496",
   "metadata": {},
   "outputs": [
    {
     "data": {
      "text/plain": [
       "((17636, 5), (4410, 5))"
      ]
     },
     "execution_count": 83,
     "metadata": {},
     "output_type": "execute_result"
    }
   ],
   "source": [
    "pca_sift_train.shape, pca_sift_val.shape"
   ]
  },
  {
   "cell_type": "code",
   "execution_count": 84,
   "id": "542b89c9",
   "metadata": {},
   "outputs": [],
   "source": [
    "norm_flat_rgb_train, norm_flat_rgb_val = norm_features_zscore(flat_rgb_train, flat_rgb_val)"
   ]
  },
  {
   "cell_type": "code",
   "execution_count": 85,
   "id": "62cd2d91",
   "metadata": {},
   "outputs": [],
   "source": [
    "pca = PCA(n_components=10)\n",
    "pca_flat_rgb_train = pca.fit_transform(norm_flat_rgb_train)\n",
    "pca_flat_rgb_val = pca.transform(norm_flat_rgb_val)"
   ]
  },
  {
   "cell_type": "code",
   "execution_count": 86,
   "id": "f50f7aba",
   "metadata": {},
   "outputs": [],
   "source": [
    "np.save('cache/pca_flat_rgb_train.npy', pca_flat_rgb_train)\n",
    "np.save('cache/pca_flat_rgb_val.npy', pca_flat_rgb_val)"
   ]
  },
  {
   "cell_type": "code",
   "execution_count": 87,
   "id": "2e364bd1",
   "metadata": {},
   "outputs": [],
   "source": [
    "pca_flat_rgb_train = np.load('cache/pca_flat_rgb_train.npy')\n",
    "pca_flat_rgb_val = np.load('cache/pca_flat_rgb_val.npy')"
   ]
  },
  {
   "cell_type": "code",
   "execution_count": 88,
   "id": "225f2361",
   "metadata": {},
   "outputs": [
    {
     "data": {
      "text/plain": [
       "((17636, 10), (4410, 10))"
      ]
     },
     "execution_count": 88,
     "metadata": {},
     "output_type": "execute_result"
    }
   ],
   "source": [
    "pca_flat_rgb_train.shape, pca_flat_rgb_val.shape"
   ]
  },
  {
   "cell_type": "code",
   "execution_count": 89,
   "id": "0fd60d3d",
   "metadata": {},
   "outputs": [],
   "source": [
    "norm_flat_gray_train, norm_flat_gray_val = norm_features_zscore(flat_gray_train, flat_gray_val)"
   ]
  },
  {
   "cell_type": "code",
   "execution_count": 90,
   "id": "a86123a2",
   "metadata": {},
   "outputs": [],
   "source": [
    "pca = PCA(n_components=6)\n",
    "pca_flat_gray_train = pca.fit_transform(norm_flat_gray_train)\n",
    "pca_flat_gray_val = pca.transform(norm_flat_gray_val)"
   ]
  },
  {
   "cell_type": "code",
   "execution_count": 91,
   "id": "34acffd4",
   "metadata": {},
   "outputs": [],
   "source": [
    "np.save('cache/pca_flat_gray_train.npy', pca_flat_gray_train)\n",
    "np.save('cache/pca_flat_gray_val.npy', pca_flat_gray_val)"
   ]
  },
  {
   "cell_type": "code",
   "execution_count": 92,
   "id": "109ef1ba",
   "metadata": {},
   "outputs": [],
   "source": [
    "pca_flat_gray_train = np.load('cache/pca_flat_gray_train.npy')\n",
    "pca_flat_gray_val = np.load('cache/pca_flat_gray_val.npy')"
   ]
  },
  {
   "cell_type": "code",
   "execution_count": 93,
   "id": "3f08bcc7",
   "metadata": {},
   "outputs": [
    {
     "data": {
      "text/plain": [
       "((17636, 6), (4410, 6))"
      ]
     },
     "execution_count": 93,
     "metadata": {},
     "output_type": "execute_result"
    }
   ],
   "source": [
    "pca_flat_gray_train.shape, pca_flat_gray_val.shape"
   ]
  },
  {
   "cell_type": "code",
   "execution_count": 94,
   "id": "6214b345",
   "metadata": {},
   "outputs": [],
   "source": [
    "# norm_hist_train, norm_hist_val = norm_features_minmax(hist_train, hist_val)\n",
    "norm_hist_train, norm_hist_val = norm_features_zscore(hist_train, hist_val)"
   ]
  },
  {
   "cell_type": "code",
   "execution_count": 95,
   "id": "2f9e47d9",
   "metadata": {},
   "outputs": [],
   "source": [
    "pca = PCA(n_components=10)\n",
    "pca_hist_train = pca.fit_transform(norm_hist_train)\n",
    "pca_hist_val = pca.transform(norm_hist_val)"
   ]
  },
  {
   "cell_type": "code",
   "execution_count": 96,
   "id": "de9adb14",
   "metadata": {},
   "outputs": [],
   "source": [
    "np.save('cache/pca_hist_train.npy', pca_hist_train)\n",
    "np.save('cache/pca_hist_val.npy', pca_hist_val)"
   ]
  },
  {
   "cell_type": "code",
   "execution_count": 97,
   "id": "461ebd7c",
   "metadata": {},
   "outputs": [],
   "source": [
    "pca_hist_train = np.load('cache/pca_hist_train.npy')\n",
    "pca_hist_val = np.load('cache/pca_hist_val.npy')"
   ]
  },
  {
   "cell_type": "code",
   "execution_count": 98,
   "id": "36b6deb6",
   "metadata": {},
   "outputs": [
    {
     "data": {
      "text/plain": [
       "((17636, 10), (4410, 10))"
      ]
     },
     "execution_count": 98,
     "metadata": {},
     "output_type": "execute_result"
    }
   ],
   "source": [
    "pca_hist_train.shape, pca_hist_val.shape"
   ]
  },
  {
   "cell_type": "markdown",
   "id": "6ada24d1",
   "metadata": {},
   "source": [
    "# Feature PCA variance comparison"
   ]
  },
  {
   "cell_type": "code",
   "execution_count": 99,
   "id": "42f5b6be",
   "metadata": {},
   "outputs": [
    {
     "data": {
      "text/plain": [
       "7"
      ]
     },
     "execution_count": 99,
     "metadata": {},
     "output_type": "execute_result"
    }
   ],
   "source": [
    "pca_array = []\n",
    "pca_array.append(pca_hog_train)\n",
    "pca_array.append(pca_lbp_train)\n",
    "pca_array.append(pca_sift_train)\n",
    "#pca_array.append(pca_surf_train)\n",
    "pca_array.append(pca_kaze_train)\n",
    "pca_array.append(pca_hist_train)\n",
    "pca_array.append(pca_flat_gray_train)\n",
    "pca_array.append(pca_flat_rgb_train)\n",
    "len(pca_array)"
   ]
  },
  {
   "cell_type": "code",
   "execution_count": 100,
   "id": "659407db",
   "metadata": {},
   "outputs": [
    {
     "data": {
      "image/png": "[encoded data removed]",
      "text/plain": [
       "<Figure size 1500x2000 with 7 Axes>"
      ]
     },
     "metadata": {},
     "output_type": "display_data"
    }
   ],
   "source": [
    "pca_projection(pca_array, ['HOG', 'LBP', 'SIFT', 'KAZE', 'Color Histogram', 'Flatten GRAY', 'Flatten RGB'])"
   ]
  },
  {
   "cell_type": "markdown",
   "id": "a9f6ad5a",
   "metadata": {},
   "source": [
    "# Reduce Features by LDA"
   ]
  },
  {
   "cell_type": "code",
   "execution_count": 101,
   "id": "5a00ee2e",
   "metadata": {},
   "outputs": [],
   "source": [
    "lda = LDA()\n",
    "lda_hog_train = lda.fit_transform(norm_hog_train, train_y)\n",
    "lda_hog_val = lda.transform(norm_hog_val)"
   ]
  },
  {
   "cell_type": "code",
   "execution_count": 102,
   "id": "5d77ed37",
   "metadata": {},
   "outputs": [
    {
     "data": {
      "text/plain": [
       "((17636, 1), (4410, 1))"
      ]
     },
     "execution_count": 102,
     "metadata": {},
     "output_type": "execute_result"
    }
   ],
   "source": [
    "lda_hog_train.shape, lda_hog_val.shape"
   ]
  },
  {
   "cell_type": "code",
   "execution_count": 103,
   "id": "6b9c1814",
   "metadata": {},
   "outputs": [],
   "source": [
    "np.save('cache/lda_hog_train.npy', lda_hog_train)\n",
    "np.save('cache/lda_hog_val.npy', lda_hog_val)"
   ]
  },
  {
   "cell_type": "code",
   "execution_count": 104,
   "id": "d74644c3",
   "metadata": {},
   "outputs": [],
   "source": [
    "lda_hog_train = np.load('cache/lda_hog_train.npy')\n",
    "lda_hog_val = np.load('cache/lda_hog_val.npy')"
   ]
  },
  {
   "cell_type": "code",
   "execution_count": 105,
   "id": "bfba168a",
   "metadata": {},
   "outputs": [
    {
     "data": {
      "text/plain": [
       "((17636, 1), (4410, 1))"
      ]
     },
     "execution_count": 105,
     "metadata": {},
     "output_type": "execute_result"
    }
   ],
   "source": [
    "lda_hog_train.shape, lda_hog_val.shape"
   ]
  },
  {
   "cell_type": "code",
   "execution_count": 106,
   "id": "40ed12f6",
   "metadata": {},
   "outputs": [],
   "source": [
    "lda = LDA()\n",
    "lda_lbp_train = lda.fit_transform(norm_lbp_train, train_y)\n",
    "lda_lbp_val = lda.transform(norm_lbp_val)"
   ]
  },
  {
   "cell_type": "code",
   "execution_count": 107,
   "id": "a12fb2bf",
   "metadata": {},
   "outputs": [],
   "source": [
    "np.save('cache/lda_lbp_train.npy', lda_lbp_train)\n",
    "np.save('cache/lda_lbp_val.npy', lda_lbp_val)"
   ]
  },
  {
   "cell_type": "code",
   "execution_count": 108,
   "id": "41646737",
   "metadata": {},
   "outputs": [],
   "source": [
    "lda_lbp_train = np.load('cache/lda_lbp_train.npy')\n",
    "lda_lbp_val = np.load('cache/lda_lbp_val.npy')"
   ]
  },
  {
   "cell_type": "code",
   "execution_count": 109,
   "id": "5284768f",
   "metadata": {},
   "outputs": [
    {
     "data": {
      "text/plain": [
       "((17636, 1), (4410, 1))"
      ]
     },
     "execution_count": 109,
     "metadata": {},
     "output_type": "execute_result"
    }
   ],
   "source": [
    "lda_lbp_train.shape, lda_lbp_val.shape"
   ]
  },
  {
   "cell_type": "code",
   "execution_count": 110,
   "id": "b002dcb6",
   "metadata": {},
   "outputs": [],
   "source": [
    "lda = LDA()\n",
    "lda_sift_train = lda.fit_transform(norm_sift_train, train_y)\n",
    "lda_sift_val = lda.transform(norm_sift_val)"
   ]
  },
  {
   "cell_type": "code",
   "execution_count": 111,
   "id": "6ed88e77",
   "metadata": {},
   "outputs": [],
   "source": [
    "np.save('cache/lda_sift_train.npy', lda_sift_train)\n",
    "np.save('cache/lda_sift_val.npy', lda_sift_val)"
   ]
  },
  {
   "cell_type": "code",
   "execution_count": 112,
   "id": "f5e74b1c",
   "metadata": {},
   "outputs": [],
   "source": [
    "lda_sift_train = np.load('cache/lda_sift_train.npy')\n",
    "lda_sift_val = np.load('cache/lda_sift_val.npy')"
   ]
  },
  {
   "cell_type": "code",
   "execution_count": 113,
   "id": "2a124999",
   "metadata": {},
   "outputs": [
    {
     "data": {
      "text/plain": [
       "((17636, 1), (4410, 1))"
      ]
     },
     "execution_count": 113,
     "metadata": {},
     "output_type": "execute_result"
    }
   ],
   "source": [
    "lda_sift_train.shape, lda_sift_val.shape"
   ]
  },
  {
   "cell_type": "code",
   "execution_count": 114,
   "id": "20e7b137",
   "metadata": {},
   "outputs": [],
   "source": [
    "lda = LDA()\n",
    "lda_hist_train = lda.fit_transform(norm_hist_train, train_y)\n",
    "lda_hist_val = lda.transform(norm_hist_val)"
   ]
  },
  {
   "cell_type": "code",
   "execution_count": 115,
   "id": "63f40f07",
   "metadata": {},
   "outputs": [],
   "source": [
    "np.save('cache/lda_hist_train.npy', lda_hist_train)\n",
    "np.save('cache/lda_hist_val.npy', lda_hist_val)"
   ]
  },
  {
   "cell_type": "code",
   "execution_count": 116,
   "id": "c781bd2b",
   "metadata": {},
   "outputs": [],
   "source": [
    "lda_hist_train = np.load('cache/lda_hist_train.npy')\n",
    "lda_hist_val = np.load('cache/lda_hist_val.npy')"
   ]
  },
  {
   "cell_type": "code",
   "execution_count": 117,
   "id": "e7f09490",
   "metadata": {},
   "outputs": [
    {
     "data": {
      "text/plain": [
       "((17636, 1), (4410, 1))"
      ]
     },
     "execution_count": 117,
     "metadata": {},
     "output_type": "execute_result"
    }
   ],
   "source": [
    "lda_hist_train.shape, lda_hist_val.shape"
   ]
  },
  {
   "cell_type": "markdown",
   "id": "50e5a9cb",
   "metadata": {},
   "source": [
    "# Combine Features normal"
   ]
  },
  {
   "cell_type": "code",
   "execution_count": 118,
   "id": "fe522200",
   "metadata": {},
   "outputs": [],
   "source": [
    "features_train = None\n",
    "features_val = None\n",
    "evs = []\n",
    "for ft, fv in zip([hog_train, hist_train,  flat_rgb_train, lbp_train, kaze_train, sift_train], \n",
    "                  [hog_val, hist_val,  flat_rgb_val, lbp_val, kaze_val, sift_val]):    \n",
    "#     scaler = preprocessing.StandardScaler()\n",
    "#     ft = scaler.fit_transform(ft)\n",
    "#     fv = scaler.transform(fv)\n",
    "#     ft = preprocessing.normalize(ft)\n",
    "#     fv = preprocessing.normalize(fv)\n",
    "    if features_train is None:\n",
    "        features_train = ft\n",
    "        features_val = fv\n",
    "    else:\n",
    "        features_train = combine_features([features_train, ft])\n",
    "        features_val = combine_features([features_val, fv])"
   ]
  },
  {
   "cell_type": "code",
   "execution_count": 119,
   "id": "a54dfcfe",
   "metadata": {},
   "outputs": [
    {
     "data": {
      "text/plain": [
       "((17636, 8900), (4410, 8900))"
      ]
     },
     "execution_count": 119,
     "metadata": {},
     "output_type": "execute_result"
    }
   ],
   "source": [
    "features_train.shape, features_val.shape"
   ]
  },
  {
   "cell_type": "markdown",
   "id": "11b96432",
   "metadata": {},
   "source": [
    "# Combine Features PCA"
   ]
  },
  {
   "cell_type": "code",
   "execution_count": 120,
   "id": "45ed6826",
   "metadata": {},
   "outputs": [],
   "source": [
    "features_train = None\n",
    "features_val = None\n",
    "evs = []\n",
    "for ft, fv in zip([pca_hog_train, pca_lbp_train, pca_sift_train, pca_flat_rgb_train, pca_hist_train], \n",
    "                  [pca_hog_val, pca_lbp_val, pca_sift_val, pca_flat_rgb_val, pca_hist_val]):    \n",
    "#     scaler = preprocessing.StandardScaler()\n",
    "#     ft = scaler.fit_transform(ft)\n",
    "#     fv = scaler.transform(fv)\n",
    "#     ft = preprocessing.normalize(ft)\n",
    "#     fv = preprocessing.normalize(fv)\n",
    "    if features_train is None:\n",
    "        features_train = ft\n",
    "        features_val = fv\n",
    "    else:\n",
    "        features_train = combine_features([features_train, ft])\n",
    "        features_val = combine_features([features_val, fv])"
   ]
  },
  {
   "cell_type": "code",
   "execution_count": 121,
   "id": "1e2d04aa",
   "metadata": {},
   "outputs": [
    {
     "data": {
      "text/plain": [
       "((17636, 45), (4410, 45))"
      ]
     },
     "execution_count": 121,
     "metadata": {},
     "output_type": "execute_result"
    }
   ],
   "source": [
    "features_train.shape, features_val.shape"
   ]
  },
  {
   "cell_type": "markdown",
   "id": "2d98a441",
   "metadata": {},
   "source": [
    "# Combine Features LDA"
   ]
  },
  {
   "cell_type": "code",
   "execution_count": 122,
   "id": "abc8f6ae",
   "metadata": {},
   "outputs": [],
   "source": [
    "features_train_lda = None\n",
    "features_val_lda = None\n",
    "evs = []\n",
    "for ft, fv in zip([lda_hog_train, lda_hist_train, lda_lbp_train, lda_sift_train], \n",
    "                  [lda_hog_val, lda_hist_val, lda_lbp_val, lda_sift_val]):    \n",
    "#     scaler = preprocessing.StandardScaler()\n",
    "#     ft = scaler.fit_transform(ft)\n",
    "#     fv = scaler.transform(fv)\n",
    "#     ft = preprocessing.normalize(ft)\n",
    "#     fv = preprocessing.normalize(fv)\n",
    "    if features_train_lda is None:\n",
    "        features_train_lda = ft\n",
    "        features_val_lda = fv\n",
    "    else:\n",
    "        features_train_lda = combine_features([features_train_lda, ft])\n",
    "        features_val_lda = combine_features([features_val_lda, fv])"
   ]
  },
  {
   "cell_type": "code",
   "execution_count": 123,
   "id": "949fbfc3",
   "metadata": {},
   "outputs": [
    {
     "data": {
      "text/plain": [
       "((17636, 4), (4410, 4))"
      ]
     },
     "execution_count": 123,
     "metadata": {},
     "output_type": "execute_result"
    }
   ],
   "source": [
    "features_train_lda.shape, features_val_lda.shape"
   ]
  },
  {
   "cell_type": "markdown",
   "id": "1b402d17",
   "metadata": {},
   "source": [
    "# LDA on PCA"
   ]
  },
  {
   "cell_type": "code",
   "execution_count": 124,
   "id": "86a0156e",
   "metadata": {},
   "outputs": [],
   "source": [
    "lda = LDA()\n",
    "lda_on_pca_train = lda.fit_transform(features_train, train_y)\n",
    "lda_on_pca_val = lda.transform(features_val)"
   ]
  },
  {
   "cell_type": "code",
   "execution_count": 125,
   "id": "3201b845",
   "metadata": {},
   "outputs": [],
   "source": [
    "np.save('cache/lda_on_pca_train.npy', lda_on_pca_train)\n",
    "np.save('cache/lda_on_pca_val.npy', lda_on_pca_val)"
   ]
  },
  {
   "cell_type": "code",
   "execution_count": 126,
   "id": "7692d27c",
   "metadata": {},
   "outputs": [],
   "source": [
    "lda_on_pca_train = np.load('cache/lda_on_pca_train.npy')\n",
    "lda_on_pca_val = np.load('cache/lda_on_pca_val.npy')"
   ]
  },
  {
   "cell_type": "code",
   "execution_count": 127,
   "id": "af39ab55",
   "metadata": {},
   "outputs": [
    {
     "data": {
      "text/plain": [
       "((17636, 1), (4410, 1))"
      ]
     },
     "execution_count": 127,
     "metadata": {},
     "output_type": "execute_result"
    }
   ],
   "source": [
    "lda_on_pca_train.shape, lda_on_pca_val.shape"
   ]
  },
  {
   "cell_type": "markdown",
   "id": "880a9d20",
   "metadata": {},
   "source": [
    "Combine Features"
   ]
  },
  {
   "cell_type": "code",
   "execution_count": 129,
   "id": "c9571937",
   "metadata": {},
   "outputs": [],
   "source": [
    "features_t = pca_hist_train\n",
    "features_v = pca_hist_val"
   ]
  },
  {
   "cell_type": "code",
   "execution_count": 130,
   "id": "0f8c820c",
   "metadata": {},
   "outputs": [
    {
     "data": {
      "text/plain": [
       "((17636, 10), (4410, 10))"
      ]
     },
     "execution_count": 130,
     "metadata": {},
     "output_type": "execute_result"
    }
   ],
   "source": [
    "features_t.shape, features_v.shape"
   ]
  },
  {
   "cell_type": "markdown",
   "id": "16a18425",
   "metadata": {},
   "source": [
    "# Classification"
   ]
  },
  {
   "cell_type": "markdown",
   "id": "92b58934",
   "metadata": {},
   "source": [
    "PCA"
   ]
  },
  {
   "cell_type": "code",
   "execution_count": 132,
   "id": "b148deac",
   "metadata": {},
   "outputs": [
    {
     "name": "stdout",
     "output_type": "stream",
     "text": [
      "Validation Accuracy in 'RF' = 0.882766439909297\n",
      "[[1950  251]\n",
      " [ 266 1943]]\n",
      "Recall in 'RF' = 0.8859609268514311\n",
      "Precision in 'RF' = 0.8799638989169675\n",
      "F1 Score in 'RF' = 0.8829522300203757\n"
     ]
    }
   ],
   "source": [
    "model1 = train_model(features_train, train_y, model_name='RF', validation=(features_val, val_y))"
   ]
  },
  {
   "cell_type": "code",
   "execution_count": 133,
   "id": "86e409a7",
   "metadata": {},
   "outputs": [],
   "source": [
    "prob1 = model1.predict_proba(features_val)\n",
    "prob10 = prob1[:,0].reshape(prob1.shape[0], 1)\n",
    "prob11 = prob1[:,1].reshape(prob1.shape[0], 1)"
   ]
  },
  {
   "cell_type": "code",
   "execution_count": 134,
   "id": "ab3a288f",
   "metadata": {},
   "outputs": [
    {
     "name": "stdout",
     "output_type": "stream",
     "text": [
      "Validation Accuracy in 'BAG' = 0.890249433106576\n",
      "[[1975  226]\n",
      " [ 258 1951]]\n",
      "Recall in 'BAG' = 0.8973194002726034\n",
      "Precision in 'BAG' = 0.8844603672189879\n",
      "F1 Score in 'BAG' = 0.8908434821831304\n"
     ]
    }
   ],
   "source": [
    "model2 = train_model(features_train, train_y, model_name='BAG', validation=(features_val, val_y))"
   ]
  },
  {
   "cell_type": "code",
   "execution_count": 135,
   "id": "8ce3a5ce",
   "metadata": {},
   "outputs": [],
   "source": [
    "prob2 = model2.predict_proba(features_val)\n",
    "prob20 = prob2[:,0].reshape(prob2.shape[0], 1)\n",
    "prob21 = prob2[:,1].reshape(prob2.shape[0], 1)"
   ]
  },
  {
   "cell_type": "code",
   "execution_count": 136,
   "id": "e8e5c7a2",
   "metadata": {},
   "outputs": [
    {
     "name": "stdout",
     "output_type": "stream",
     "text": [
      "Validation Accuracy in 'ADA' = 0.8750566893424037\n",
      "[[1916  285]\n",
      " [ 266 1943]]\n",
      "Recall in 'ADA' = 0.870513402998637\n",
      "Precision in 'ADA' = 0.8780934922089826\n",
      "F1 Score in 'ADA' = 0.8742870180241843\n"
     ]
    }
   ],
   "source": [
    "model3 = train_model(features_train, train_y, model_name='ADA', validation=(features_val, val_y))"
   ]
  },
  {
   "cell_type": "code",
   "execution_count": 137,
   "id": "eb441e70",
   "metadata": {},
   "outputs": [],
   "source": [
    "prob3 = model3.predict_proba(features_val)\n",
    "prob30 = prob3[:,0].reshape(prob3.shape[0], 1)\n",
    "prob31 = prob3[:,1].reshape(prob3.shape[0], 1)"
   ]
  },
  {
   "cell_type": "code",
   "execution_count": 138,
   "id": "517f0f72",
   "metadata": {},
   "outputs": [
    {
     "name": "stdout",
     "output_type": "stream",
     "text": [
      "Validation Accuracy in 'NB' = 0.6972789115646258\n",
      "[[1059 1142]\n",
      " [ 193 2016]]\n",
      "Recall in 'NB' = 0.4811449341208542\n",
      "Precision in 'NB' = 0.8458466453674122\n",
      "F1 Score in 'NB' = 0.6133796698523024\n"
     ]
    }
   ],
   "source": [
    "\n",
    "model4 = train_model(features_train, train_y, model_name='NB', validation=(features_val, val_y))"
   ]
  },
  {
   "cell_type": "code",
   "execution_count": 139,
   "id": "2155f9b1",
   "metadata": {},
   "outputs": [],
   "source": [
    "prob4 = model4.predict_proba(features_val)\n",
    "prob40 = prob4[:,0].reshape(prob4.shape[0], 1)\n",
    "prob41 = prob4[:,1].reshape(prob4.shape[0], 1)"
   ]
  },
  {
   "cell_type": "code",
   "execution_count": 140,
   "id": "9292fd94",
   "metadata": {},
   "outputs": [
    {
     "name": "stdout",
     "output_type": "stream",
     "text": [
      "Validation Accuracy in 'SVM' = 0.8714285714285714\n",
      "[[1890  311]\n",
      " [ 256 1953]]\n",
      "Recall in 'SVM' = 0.8587005906406179\n",
      "Precision in 'SVM' = 0.880708294501398\n",
      "F1 Score in 'SVM' = 0.8695652173913044\n"
     ]
    }
   ],
   "source": [
    "model5 = train_model(features_train, train_y, model_name='SVM', validation=(features_val, val_y))"
   ]
  },
  {
   "cell_type": "code",
   "execution_count": 141,
   "id": "25d65598",
   "metadata": {},
   "outputs": [],
   "source": [
    "prob5 = model5.predict_proba(features_val)\n",
    "prob50 = prob5[:,0].reshape(prob5.shape[0], 1)\n",
    "prob51 = prob5[:,1].reshape(prob5.shape[0], 1)"
   ]
  },
  {
   "cell_type": "code",
   "execution_count": 142,
   "id": "4aa7094e",
   "metadata": {},
   "outputs": [
    {
     "name": "stdout",
     "output_type": "stream",
     "text": [
      "Validation Accuracy in 'XGB' = 0.9151927437641724\n",
      "[[2002  199]\n",
      " [ 175 2034]]\n",
      "Recall in 'XGB' = 0.9095865515674694\n",
      "Precision in 'XGB' = 0.9196141479099679\n",
      "F1 Score in 'XGB' = 0.914572864321608\n"
     ]
    }
   ],
   "source": [
    "model6 = train_model(np.array(features_train), train_y, model_name='XGB', validation=(features_val, val_y))"
   ]
  },
  {
   "cell_type": "code",
   "execution_count": 143,
   "id": "dbd196a9",
   "metadata": {},
   "outputs": [],
   "source": [
    "prob6 = model6.predict_proba(features_val)\n",
    "prob60 = prob6[:,0].reshape(prob6.shape[0], 1)\n",
    "prob61 = prob6[:,1].reshape(prob6.shape[0], 1)"
   ]
  },
  {
   "cell_type": "code",
   "execution_count": 144,
   "id": "ecd331f2",
   "metadata": {},
   "outputs": [
    {
     "name": "stdout",
     "output_type": "stream",
     "text": [
      "Validation Accuracy in 'KNN' = 0.7848072562358277\n",
      "[[1605  596]\n",
      " [ 353 1856]]\n",
      "Recall in 'KNN' = 0.7292139936392549\n",
      "Precision in 'KNN' = 0.8197139938712973\n",
      "F1 Score in 'KNN' = 0.7718201490742967\n"
     ]
    }
   ],
   "source": [
    "model7 = train_model(np.array(features_train), train_y, model_name='KNN', validation=(features_val, val_y))"
   ]
  },
  {
   "cell_type": "code",
   "execution_count": 145,
   "id": "53927774",
   "metadata": {},
   "outputs": [],
   "source": [
    "prob7 = model7.predict_proba(features_val)\n",
    "prob70 = prob7[:,0].reshape(prob7.shape[0], 1)\n",
    "prob71 = prob7[:,1].reshape(prob7.shape[0], 1)"
   ]
  },
  {
   "cell_type": "code",
   "execution_count": 146,
   "id": "5abcbec3",
   "metadata": {},
   "outputs": [
    {
     "data": {
      "image/png": "[encoded data removed]",
      "text/plain": [
       "<Figure size 960x480 with 1 Axes>"
      ]
     },
     "metadata": {},
     "output_type": "display_data"
    }
   ],
   "source": [
    "prob = np.concatenate((prob10, prob20, prob30, prob40, prob50, prob60, prob70), axis=1)\n",
    "plot_combine_roc(val_y, prob)"
   ]
  },
  {
   "cell_type": "code",
   "execution_count": 147,
   "id": "6e8a064f",
   "metadata": {},
   "outputs": [
    {
     "data": {
      "image/png": "[encoded data removed]",
      "text/plain": [
       "<Figure size 960x480 with 1 Axes>"
      ]
     },
     "metadata": {},
     "output_type": "display_data"
    }
   ],
   "source": [
    "prob = np.concatenate((prob11, prob21, prob31, prob41, prob51, prob61, prob71), axis=1)\n",
    "plot_combine_roc(val_y, prob)"
   ]
  },
  {
   "cell_type": "markdown",
   "id": "89632f80",
   "metadata": {},
   "source": [
    "LDA"
   ]
  },
  {
   "cell_type": "code",
   "execution_count": 148,
   "id": "5fd92696",
   "metadata": {},
   "outputs": [
    {
     "name": "stdout",
     "output_type": "stream",
     "text": [
      "Validation Accuracy in 'RF' = 0.8621315192743764\n",
      "[[1901  300]\n",
      " [ 308 1901]]\n",
      "Recall in 'RF' = 0.8636983189459336\n",
      "Precision in 'RF' = 0.8605703938433681\n",
      "F1 Score in 'RF' = 0.8621315192743764\n"
     ]
    }
   ],
   "source": [
    "model8 = train_model(features_train_lda, train_y, model_name='RF', validation=(features_val_lda, val_y))"
   ]
  },
  {
   "cell_type": "code",
   "execution_count": 149,
   "id": "a07595e3",
   "metadata": {},
   "outputs": [],
   "source": [
    "prob8 = model8.predict_proba(features_val_lda)\n",
    "prob80 = prob8[:,0].reshape(prob8.shape[0], 1)\n",
    "prob81 = prob8[:,1].reshape(prob8.shape[0], 1)"
   ]
  },
  {
   "cell_type": "code",
   "execution_count": 150,
   "id": "e7977d70",
   "metadata": {},
   "outputs": [
    {
     "name": "stdout",
     "output_type": "stream",
     "text": [
      "Validation Accuracy in 'BAG' = 0.8537414965986394\n",
      "[[1880  321]\n",
      " [ 324 1885]]\n",
      "Recall in 'BAG' = 0.854157201272149\n",
      "Precision in 'BAG' = 0.852994555353902\n",
      "F1 Score in 'BAG' = 0.8535754824063564\n"
     ]
    }
   ],
   "source": [
    "model9 = train_model(features_train_lda, train_y, model_name='BAG', validation=(features_val_lda, val_y))"
   ]
  },
  {
   "cell_type": "code",
   "execution_count": 151,
   "id": "bb22f53d",
   "metadata": {},
   "outputs": [],
   "source": [
    "prob9 = model9.predict_proba(features_val_lda)\n",
    "prob90 = prob9[:,0].reshape(prob9.shape[0], 1)\n",
    "prob91 = prob9[:,1].reshape(prob9.shape[0], 1)"
   ]
  },
  {
   "cell_type": "code",
   "execution_count": 152,
   "id": "670c50d1",
   "metadata": {},
   "outputs": [
    {
     "name": "stdout",
     "output_type": "stream",
     "text": [
      "Validation Accuracy in 'ADA' = 0.8600907029478458\n",
      "[[1874  327]\n",
      " [ 290 1919]]\n",
      "Recall in 'ADA' = 0.8514311676510677\n",
      "Precision in 'ADA' = 0.865988909426987\n",
      "F1 Score in 'ADA' = 0.8586483390607101\n"
     ]
    }
   ],
   "source": [
    "model10 = train_model(features_train_lda, train_y, model_name='ADA', validation=(features_val_lda, val_y))\n"
   ]
  },
  {
   "cell_type": "code",
   "execution_count": 153,
   "id": "39a5afff",
   "metadata": {},
   "outputs": [],
   "source": [
    "prob10 = model10.predict_proba(features_val_lda)\n",
    "prob100 = prob10[:,0].reshape(prob10.shape[0], 1)\n",
    "prob101 = prob10[:,1].reshape(prob10.shape[0], 1)"
   ]
  },
  {
   "cell_type": "code",
   "execution_count": 154,
   "id": "20a4c0d7",
   "metadata": {},
   "outputs": [
    {
     "name": "stdout",
     "output_type": "stream",
     "text": [
      "Validation Accuracy in 'NB' = 0.8473922902494331\n",
      "[[1808  393]\n",
      " [ 280 1929]]\n",
      "Recall in 'NB' = 0.8214447978191731\n",
      "Precision in 'NB' = 0.8659003831417624\n",
      "F1 Score in 'NB' = 0.8430869666588948\n"
     ]
    }
   ],
   "source": [
    "model11 = train_model(features_train_lda, train_y, model_name='NB', validation=(features_val_lda, val_y))\n"
   ]
  },
  {
   "cell_type": "code",
   "execution_count": 155,
   "id": "bb269fc7",
   "metadata": {},
   "outputs": [],
   "source": [
    "prob11 = model11.predict_proba(features_val_lda)\n",
    "prob110 = prob11[:,0].reshape(prob11.shape[0], 1)\n",
    "prob111 = prob11[:,1].reshape(prob11.shape[0], 1)"
   ]
  },
  {
   "cell_type": "code",
   "execution_count": 156,
   "id": "5519930e",
   "metadata": {},
   "outputs": [
    {
     "name": "stdout",
     "output_type": "stream",
     "text": [
      "Validation Accuracy in 'SVM' = 0.8648526077097506\n",
      "[[1932  269]\n",
      " [ 327 1882]]\n",
      "Recall in 'SVM' = 0.8777828259881872\n",
      "Precision in 'SVM' = 0.8552456839309429\n",
      "F1 Score in 'SVM' = 0.8663677130044845\n"
     ]
    }
   ],
   "source": [
    "model12 = train_model(features_train_lda, train_y, model_name='SVM', validation=(features_val_lda, val_y))\n"
   ]
  },
  {
   "cell_type": "code",
   "execution_count": 157,
   "id": "2bfc5ee1",
   "metadata": {},
   "outputs": [],
   "source": [
    "prob12 = model12.predict_proba(features_val_lda)\n",
    "prob120 = prob12[:,0].reshape(prob12.shape[0], 1)\n",
    "prob121 = prob12[:,1].reshape(prob12.shape[0], 1)"
   ]
  },
  {
   "cell_type": "code",
   "execution_count": 158,
   "id": "ca1d10e6",
   "metadata": {},
   "outputs": [
    {
     "name": "stdout",
     "output_type": "stream",
     "text": [
      "Validation Accuracy in 'XGB' = 0.8541950113378685\n",
      "[[1874  327]\n",
      " [ 316 1893]]\n",
      "Recall in 'XGB' = 0.8514311676510677\n",
      "Precision in 'XGB' = 0.8557077625570776\n",
      "F1 Score in 'XGB' = 0.8535641084035528\n"
     ]
    }
   ],
   "source": [
    "model13 = train_model(features_train_lda, train_y, model_name='XGB', validation=(features_val_lda, val_y))\n"
   ]
  },
  {
   "cell_type": "code",
   "execution_count": 159,
   "id": "72ed1c94",
   "metadata": {},
   "outputs": [],
   "source": [
    "prob13 = model13.predict_proba(features_val_lda)\n",
    "prob130 = prob13[:,0].reshape(prob13.shape[0], 1)\n",
    "prob131 = prob13[:,1].reshape(prob13.shape[0], 1)"
   ]
  },
  {
   "cell_type": "code",
   "execution_count": 160,
   "id": "e4fdd500",
   "metadata": {},
   "outputs": [
    {
     "name": "stdout",
     "output_type": "stream",
     "text": [
      "Validation Accuracy in 'KNN' = 0.8512471655328798\n",
      "[[1888  313]\n",
      " [ 343 1866]]\n",
      "Recall in 'KNN' = 0.8577919127669241\n",
      "Precision in 'KNN' = 0.8462572837292693\n",
      "F1 Score in 'KNN' = 0.851985559566787\n"
     ]
    }
   ],
   "source": [
    "model14 = train_model(features_train_lda, train_y, model_name='KNN', validation=(features_val_lda, val_y))\n"
   ]
  },
  {
   "cell_type": "code",
   "execution_count": 161,
   "id": "672ec152",
   "metadata": {},
   "outputs": [],
   "source": [
    "prob14 = model14.predict_proba(features_val_lda)\n",
    "prob140 = prob14[:,0].reshape(prob14.shape[0], 1)\n",
    "prob141 = prob14[:,1].reshape(prob14.shape[0], 1)"
   ]
  },
  {
   "cell_type": "code",
   "execution_count": 162,
   "id": "392d3766",
   "metadata": {},
   "outputs": [
    {
     "data": {
      "image/png": "[encoded data removed]",
      "text/plain": [
       "<Figure size 960x480 with 1 Axes>"
      ]
     },
     "metadata": {},
     "output_type": "display_data"
    }
   ],
   "source": [
    "prob = np.concatenate((prob80, prob90, prob100, prob110, prob120, prob130, prob140), axis=1)\n",
    "plot_combine_roc(val_y, prob)"
   ]
  },
  {
   "cell_type": "code",
   "execution_count": 163,
   "id": "d7e0a0cd",
   "metadata": {},
   "outputs": [
    {
     "data": {
      "image/png": "[encoded data removed]",
      "text/plain": [
       "<Figure size 960x480 with 1 Axes>"
      ]
     },
     "metadata": {},
     "output_type": "display_data"
    }
   ],
   "source": [
    "prob = np.concatenate((prob81, prob91, prob101, prob111, prob121, prob131, prob141), axis=1)\n",
    "plot_combine_roc(val_y, prob)"
   ]
  },
  {
   "cell_type": "markdown",
   "id": "2bb4cc57",
   "metadata": {},
   "source": [
    "LDA on PCA"
   ]
  },
  {
   "cell_type": "code",
   "execution_count": 164,
   "id": "af817a63",
   "metadata": {},
   "outputs": [
    {
     "name": "stdout",
     "output_type": "stream",
     "text": [
      "Validation Accuracy in 'RF' = 0.836281179138322\n",
      "[[1921  280]\n",
      " [ 442 1767]]\n",
      "Recall in 'RF' = 0.8727850976828714\n",
      "Precision in 'RF' = 0.8129496402877698\n",
      "F1 Score in 'RF' = 0.8418054338299737\n"
     ]
    }
   ],
   "source": [
    "model15 = train_model(lda_on_pca_train, train_y, model_name='RF', validation=(lda_on_pca_val, val_y))\n"
   ]
  },
  {
   "cell_type": "code",
   "execution_count": 165,
   "id": "4ee0cbf3",
   "metadata": {},
   "outputs": [],
   "source": [
    "prob15 = model15.predict_proba(lda_on_pca_val)\n",
    "prob150 = prob15[:,0].reshape(prob15.shape[0], 1)\n",
    "prob151 = prob15[:,1].reshape(prob15.shape[0], 1)"
   ]
  },
  {
   "cell_type": "code",
   "execution_count": 166,
   "id": "247464c0",
   "metadata": {},
   "outputs": [
    {
     "name": "stdout",
     "output_type": "stream",
     "text": [
      "Validation Accuracy in 'BAG' = 0.7623582766439909\n",
      "[[1681  520]\n",
      " [ 528 1681]]\n",
      "Recall in 'BAG' = 0.7637437528396184\n",
      "Precision in 'BAG' = 0.7609778180172023\n",
      "F1 Score in 'BAG' = 0.7623582766439908\n"
     ]
    }
   ],
   "source": [
    "model16 = train_model(lda_on_pca_train, train_y, model_name='BAG', validation=(lda_on_pca_val, val_y))\n"
   ]
  },
  {
   "cell_type": "code",
   "execution_count": 167,
   "id": "2c95ea6b",
   "metadata": {},
   "outputs": [],
   "source": [
    "prob16 = model16.predict_proba(lda_on_pca_val)\n",
    "prob160 = prob16[:,0].reshape(prob16.shape[0], 1)\n",
    "prob161 = prob16[:,1].reshape(prob16.shape[0], 1)"
   ]
  },
  {
   "cell_type": "code",
   "execution_count": 168,
   "id": "4ed98f34",
   "metadata": {},
   "outputs": [
    {
     "name": "stdout",
     "output_type": "stream",
     "text": [
      "Validation Accuracy in 'ADA' = 0.8412698412698413\n",
      "[[1975  226]\n",
      " [ 474 1735]]\n",
      "Recall in 'ADA' = 0.8973194002726034\n",
      "Precision in 'ADA' = 0.8064516129032258\n",
      "F1 Score in 'ADA' = 0.849462365591398\n"
     ]
    }
   ],
   "source": [
    "model17 = train_model(lda_on_pca_train, train_y, model_name='ADA', validation=(lda_on_pca_val, val_y))\n"
   ]
  },
  {
   "cell_type": "code",
   "execution_count": 169,
   "id": "31c50c03",
   "metadata": {},
   "outputs": [],
   "source": [
    "prob17 = model17.predict_proba(lda_on_pca_val)\n",
    "prob170 = prob17[:,0].reshape(prob17.shape[0], 1)\n",
    "prob171 = prob17[:,1].reshape(prob17.shape[0], 1)"
   ]
  },
  {
   "cell_type": "code",
   "execution_count": 170,
   "id": "15ce8d88",
   "metadata": {},
   "outputs": [
    {
     "name": "stdout",
     "output_type": "stream",
     "text": [
      "Validation Accuracy in 'NB' = 0.8321995464852607\n",
      "[[1721  480]\n",
      " [ 260 1949]]\n",
      "Recall in 'NB' = 0.7819173103134939\n",
      "Precision in 'NB' = 0.8687531549722363\n",
      "F1 Score in 'NB' = 0.8230511716881874\n"
     ]
    }
   ],
   "source": [
    "model18 = train_model(lda_on_pca_train, train_y, model_name='NB', validation=(lda_on_pca_val, val_y))\n"
   ]
  },
  {
   "cell_type": "code",
   "execution_count": 171,
   "id": "77c766bc",
   "metadata": {},
   "outputs": [],
   "source": [
    "prob18 = model18.predict_proba(lda_on_pca_val)\n",
    "prob180 = prob18[:,0].reshape(prob18.shape[0], 1)\n",
    "prob181 = prob18[:,1].reshape(prob18.shape[0], 1)"
   ]
  },
  {
   "cell_type": "code",
   "execution_count": 172,
   "id": "9db6d62f",
   "metadata": {},
   "outputs": [
    {
     "name": "stdout",
     "output_type": "stream",
     "text": [
      "Validation Accuracy in 'SVM' = 0.8417233560090703\n",
      "[[1915  286]\n",
      " [ 412 1797]]\n",
      "Recall in 'SVM' = 0.8700590640617901\n",
      "Precision in 'SVM' = 0.8229480017189514\n",
      "F1 Score in 'SVM' = 0.8458480565371026\n"
     ]
    }
   ],
   "source": [
    "model19 = train_model(lda_on_pca_train, train_y, model_name='SVM', validation=(lda_on_pca_val, val_y))\n"
   ]
  },
  {
   "cell_type": "code",
   "execution_count": 173,
   "id": "ee469627",
   "metadata": {},
   "outputs": [],
   "source": [
    "prob19 = model19.predict_proba(lda_on_pca_val)\n",
    "prob190 = prob19[:,0].reshape(prob19.shape[0], 1)\n",
    "prob191 = prob19[:,1].reshape(prob19.shape[0], 1)"
   ]
  },
  {
   "cell_type": "code",
   "execution_count": 174,
   "id": "0b10a9e6",
   "metadata": {},
   "outputs": [
    {
     "name": "stdout",
     "output_type": "stream",
     "text": [
      "Validation Accuracy in 'XGB' = 0.8369614512471655\n",
      "[[1929  272]\n",
      " [ 447 1762]]\n",
      "Recall in 'XGB' = 0.8764198091776465\n",
      "Precision in 'XGB' = 0.8118686868686869\n",
      "F1 Score in 'XGB' = 0.8429102031898623\n"
     ]
    }
   ],
   "source": [
    "model20 = train_model(lda_on_pca_train, train_y, model_name='XGB', validation=(lda_on_pca_val, val_y))\n"
   ]
  },
  {
   "cell_type": "code",
   "execution_count": 175,
   "id": "09a9b1c5",
   "metadata": {},
   "outputs": [],
   "source": [
    "prob20 = model20.predict_proba(lda_on_pca_val)\n",
    "prob200 = prob20[:,0].reshape(prob20.shape[0], 1)\n",
    "prob201 = prob20[:,1].reshape(prob20.shape[0], 1)"
   ]
  },
  {
   "cell_type": "code",
   "execution_count": 176,
   "id": "165aa04b",
   "metadata": {},
   "outputs": [
    {
     "name": "stdout",
     "output_type": "stream",
     "text": [
      "Validation Accuracy in 'KNN' = 0.7825396825396825\n",
      "[[1735  466]\n",
      " [ 493 1716]]\n",
      "Recall in 'KNN' = 0.7882780554293503\n",
      "Precision in 'KNN' = 0.7787253141831239\n",
      "F1 Score in 'KNN' = 0.783472567170919\n"
     ]
    }
   ],
   "source": [
    "model21 = train_model(lda_on_pca_train, train_y, model_name='KNN', validation=(lda_on_pca_val, val_y))\n"
   ]
  },
  {
   "cell_type": "code",
   "execution_count": 177,
   "id": "822d52a0",
   "metadata": {},
   "outputs": [],
   "source": [
    "prob21 = model21.predict_proba(lda_on_pca_val)\n",
    "prob210 = prob21[:,0].reshape(prob21.shape[0], 1)\n",
    "prob211 = prob21[:,1].reshape(prob21.shape[0], 1)"
   ]
  },
  {
   "cell_type": "code",
   "execution_count": 178,
   "id": "ca41e9f7",
   "metadata": {},
   "outputs": [
    {
     "data": {
      "image/png": "[encoded data removed]",
      "text/plain": [
       "<Figure size 960x480 with 1 Axes>"
      ]
     },
     "metadata": {},
     "output_type": "display_data"
    }
   ],
   "source": [
    "prob = np.concatenate((prob150, prob160, prob170, prob180, prob190, prob200, prob210), axis=1)\n",
    "plot_combine_roc(val_y, prob)"
   ]
  },
  {
   "cell_type": "code",
   "execution_count": 179,
   "id": "4ff8761c",
   "metadata": {},
   "outputs": [
    {
     "data": {
      "image/png": "[encoded data removed]",
      "text/plain": [
       "<Figure size 960x480 with 1 Axes>"
      ]
     },
     "metadata": {},
     "output_type": "display_data"
    }
   ],
   "source": [
    "prob = np.concatenate((prob151, prob161, prob171, prob181, prob191, prob201, prob211), axis=1)\n",
    "plot_combine_roc(val_y, prob)"
   ]
  },
  {
   "cell_type": "markdown",
   "id": "90add42e",
   "metadata": {},
   "source": [
    "Testing"
   ]
  },
  {
   "cell_type": "code",
   "execution_count": 180,
   "id": "76a042fd",
   "metadata": {},
   "outputs": [],
   "source": [
    "hog_comp_train = combine_features([hog_train, hog_val], horizontal=False)\n",
    "lbp_comp_train = combine_features([lbp_train, lbp_val], horizontal=False)\n",
    "kaze_comp_train = combine_features([kaze_train, kaze_val], horizontal=False)\n",
    "sift_comp_train = combine_features([sift_train, sift_val], horizontal=False)\n",
    "#surf_comp_train = combine_features([surf_train, surf_val], horizontal=False)\n",
    "flat_rgb_comp_train = combine_features([flat_rgb_train, flat_rgb_val], horizontal=False)\n",
    "flat_gray_comp_train = combine_features([flat_gray_train, flat_gray_val], horizontal=False)\n",
    "hist_comp_train = combine_features([hist_train, hist_val], horizontal=False)"
   ]
  },
  {
   "cell_type": "code",
   "execution_count": 181,
   "id": "bcda6058",
   "metadata": {},
   "outputs": [],
   "source": [
    "data_y = np.hstack([train_y, val_y])\n"
   ]
  },
  {
   "cell_type": "code",
   "execution_count": 182,
   "id": "44b81e4a",
   "metadata": {},
   "outputs": [],
   "source": [
    "pcas_array = []\n",
    "\n",
    "pca = PCA(n_components=10)\n",
    "pca_hog_comp_train = pca.fit_transform(hog_comp_train)\n",
    "pcas_array.append(pca)\n",
    "\n",
    "pca = PCA(n_components=30)\n",
    "pca_lbp_comp_train = pca.fit_transform(lbp_comp_train)\n",
    "pcas_array.append(pca)\n",
    "\n",
    "pca = PCA(n_components=20)\n",
    "pca_kaze_comp_train = pca.fit_transform(kaze_comp_train)\n",
    "pcas_array.append(pca)\n",
    "\n",
    "pca = PCA(n_components=15)\n",
    "pca_sift_comp_train = pca.fit_transform(sift_comp_train)\n",
    "pcas_array.append(pca)\n",
    "\n",
    "#pca = PCA(n_components=5)\n",
    "#pca_surf_comp_train = pca.fit_transform(surf_comp_train)\n",
    "#pcas_array.append(pca)\n",
    "\n",
    "pca = PCA(n_components=20)\n",
    "pca_flat_rgb_comp_train = pca.fit_transform(flat_rgb_comp_train)\n",
    "pcas_array.append(pca)\n",
    "\n",
    "pca = PCA(n_components=20)\n",
    "pca_flat_gray_comp_train = pca.fit_transform(flat_gray_comp_train)\n",
    "pcas_array.append(pca)\n",
    "\n",
    "pca = PCA(n_components=10)\n",
    "pca_hist_comp_train = pca.fit_transform(hist_comp_train)\n",
    "pcas_array.append(pca)"
   ]
  },
  {
   "cell_type": "code",
   "execution_count": 183,
   "id": "699e1811",
   "metadata": {},
   "outputs": [],
   "source": [
    "reduced_train_features=[pca_hog_comp_train,\n",
    "                        pca_lbp_comp_train,\n",
    "                        pca_kaze_comp_train,\n",
    "                        pca_sift_comp_train,\n",
    "                        #pca_surf_comp_train,\n",
    "                        pca_flat_rgb_comp_train,\n",
    "                        pca_flat_gray_comp_train,\n",
    "                        pca_hist_comp_train]"
   ]
  },
  {
   "cell_type": "code",
   "execution_count": 184,
   "id": "0a205278",
   "metadata": {},
   "outputs": [
    {
     "name": "stdout",
     "output_type": "stream",
     "text": [
      "Feature saved with name cache/hog_test.pkl\n",
      "Feature saved with name cache/lbp_test.pkl\n",
      "Feature saved with name cache/kaze_test.pkl\n",
      "Feature saved with name cache/sift_test.pkl\n",
      "Feature saved with name cache/flat_rgb_test.pkl\n",
      "Feature saved with name cache/flat_gray_test.pkl\n",
      "Feature saved with name cache/hist_test.pkl\n"
     ]
    }
   ],
   "source": [
    "hog_test = get_hog(test_x, name='hog_test', save=True)\n",
    "lbp_test = get_lbp(test_x, name='lbp_test', save=True)\n",
    "kaze_test = get_kaze(test_x, name='kaze_test', save=True)\n",
    "sift_test = get_sift(test_x, name='sift_test', save=True)\n",
    "#surf_test = get_surf(test_x, name='surf_test', save=True)\n",
    "flat_rgb_test = get_flattened(test_x, None, name='flat_rgb_test', save=True)\n",
    "flat_gray_test = get_flattened(test_x, name='flat_gray_test', save=True)\n",
    "hist_test = get_color_hist(test_x, name='hist_test', save=True)"
   ]
  },
  {
   "cell_type": "code",
   "execution_count": 185,
   "id": "9d8f833f",
   "metadata": {},
   "outputs": [],
   "source": [
    "test_features= [hog_test,\n",
    "                lbp_test,\n",
    "                kaze_test,\n",
    "                sift_test,\n",
    "                #surf_test,\n",
    "                flat_rgb_test,\n",
    "                flat_gray_test,\n",
    "                hist_test]"
   ]
  },
  {
   "cell_type": "code",
   "execution_count": 186,
   "id": "2e7a296a",
   "metadata": {},
   "outputs": [],
   "source": [
    "features_comp_train = None\n",
    "features_test = None\n",
    "comp_pcas = []\n",
    "\n",
    "for i, (f_train, f_test) in enumerate(zip(reduced_train_features, \n",
    "                                          test_features)):\n",
    "    if i == 6:\n",
    "        continue\n",
    "    f_test = pcas_array[i].transform(f_test)\n",
    "    \n",
    "    if features_comp_train is None:\n",
    "        features_comp_train = f_train\n",
    "        features_test = f_test\n",
    "    else:\n",
    "        features_comp_train = combine_features([features_comp_train, f_train])\n",
    "        features_test = combine_features([features_test, f_test])"
   ]
  },
  {
   "cell_type": "code",
   "execution_count": 187,
   "id": "4a0b309c",
   "metadata": {},
   "outputs": [
    {
     "data": {
      "text/plain": [
       "((22046, 115), (5512, 115))"
      ]
     },
     "execution_count": 187,
     "metadata": {},
     "output_type": "execute_result"
    }
   ],
   "source": [
    "features_comp_train.shape, features_test.shape"
   ]
  },
  {
   "cell_type": "code",
   "execution_count": 188,
   "id": "adf8b920",
   "metadata": {},
   "outputs": [],
   "source": [
    "comp_model = train_model(features_comp_train, data_y, model_name='XGB')"
   ]
  },
  {
   "cell_type": "code",
   "execution_count": 189,
   "id": "72f2eca3",
   "metadata": {},
   "outputs": [],
   "source": [
    "y_hat = comp_model.predict(features_test)"
   ]
  },
  {
   "cell_type": "code",
   "execution_count": 190,
   "id": "6ac1efbc",
   "metadata": {},
   "outputs": [
    {
     "name": "stdout",
     "output_type": "stream",
     "text": [
      "0.8122278664731495\n",
      "[[2247  531]\n",
      " [ 504 2230]]\n",
      "0.816793893129771 0.8088552915766739 0.812805208898535\n"
     ]
    }
   ],
   "source": [
    "acc = metrics.accuracy_score(test_y, y_hat)\n",
    "print(acc)\n",
    "cm = metrics.confusion_matrix(test_y, y_hat)\n",
    "print(cm)\n",
    "precision = cm[0][0] / (cm[0][0] + cm[1][0])\n",
    "recall = cm[0][0] / (cm[0][0] + cm[0][1])\n",
    "f1 = 2*(recall * precision) / (recall + precision)\n",
    "print(precision, recall, f1)"
   ]
  },
  {
   "cell_type": "markdown",
   "id": "03e31dbd",
   "metadata": {},
   "source": [
    "Hyper Parameter Tuning"
   ]
  },
  {
   "cell_type": "code",
   "execution_count": 191,
   "id": "f8af0e4a",
   "metadata": {},
   "outputs": [],
   "source": [
    "clf = RandomForestClassifier(n_estimators=200)\n",
    "\n",
    "param_dist = {\"max_depth\": [3, None],\n",
    "              \"class_weight\" : [\"balanced\", \"balanced_subsample\", None],\n",
    "              \"min_samples_split\": randint(2, 11),\n",
    "              \"bootstrap\": [True, False],\n",
    "              \"criterion\": [\"gini\", \"entropy\"]}\n",
    "\n",
    "random_search = RandomizedSearchCV(clf, param_distributions=param_dist, n_iter=20, cv=5, return_train_score=True)"
   ]
  },
  {
   "cell_type": "code",
   "execution_count": 192,
   "id": "ebc66de3",
   "metadata": {},
   "outputs": [
    {
     "data": {
      "text/html": [
       "<style>#sk-container-id-1 {color: black;}#sk-container-id-1 pre{padding: 0;}#sk-container-id-1 div.sk-toggleable {background-color: white;}#sk-container-id-1 label.sk-toggleable__label {cursor: pointer;display: block;width: 100%;margin-bottom: 0;padding: 0.3em;box-sizing: border-box;text-align: center;}#sk-container-id-1 label.sk-toggleable__label-arrow:before {content: \"▸\";float: left;margin-right: 0.25em;color: #696969;}#sk-container-id-1 label.sk-toggleable__label-arrow:hover:before {color: black;}#sk-container-id-1 div.sk-estimator:hover label.sk-toggleable__label-arrow:before {color: black;}#sk-container-id-1 div.sk-toggleable__content {max-height: 0;max-width: 0;overflow: hidden;text-align: left;background-color: #f0f8ff;}#sk-container-id-1 div.sk-toggleable__content pre {margin: 0.2em;color: black;border-radius: 0.25em;background-color: #f0f8ff;}#sk-container-id-1 input.sk-toggleable__control:checked~div.sk-toggleable__content {max-height: 200px;max-width: 100%;overflow: auto;}#sk-container-id-1 input.sk-toggleable__control:checked~label.sk-toggleable__label-arrow:before {content: \"▾\";}#sk-container-id-1 div.sk-estimator input.sk-toggleable__control:checked~label.sk-toggleable__label {background-color: #d4ebff;}#sk-container-id-1 div.sk-label input.sk-toggleable__control:checked~label.sk-toggleable__label {background-color: #d4ebff;}#sk-container-id-1 input.sk-hidden--visually {border: 0;clip: rect(1px 1px 1px 1px);clip: rect(1px, 1px, 1px, 1px);height: 1px;margin: -1px;overflow: hidden;padding: 0;position: absolute;width: 1px;}#sk-container-id-1 div.sk-estimator {font-family: monospace;background-color: #f0f8ff;border: 1px dotted black;border-radius: 0.25em;box-sizing: border-box;margin-bottom: 0.5em;}#sk-container-id-1 div.sk-estimator:hover {background-color: #d4ebff;}#sk-container-id-1 div.sk-parallel-item::after {content: \"\";width: 100%;border-bottom: 1px solid gray;flex-grow: 1;}#sk-container-id-1 div.sk-label:hover label.sk-toggleable__label {background-color: #d4ebff;}#sk-container-id-1 div.sk-serial::before {content: \"\";position: absolute;border-left: 1px solid gray;box-sizing: border-box;top: 0;bottom: 0;left: 50%;z-index: 0;}#sk-container-id-1 div.sk-serial {display: flex;flex-direction: column;align-items: center;background-color: white;padding-right: 0.2em;padding-left: 0.2em;position: relative;}#sk-container-id-1 div.sk-item {position: relative;z-index: 1;}#sk-container-id-1 div.sk-parallel {display: flex;align-items: stretch;justify-content: center;background-color: white;position: relative;}#sk-container-id-1 div.sk-item::before, #sk-container-id-1 div.sk-parallel-item::before {content: \"\";position: absolute;border-left: 1px solid gray;box-sizing: border-box;top: 0;bottom: 0;left: 50%;z-index: -1;}#sk-container-id-1 div.sk-parallel-item {display: flex;flex-direction: column;z-index: 1;position: relative;background-color: white;}#sk-container-id-1 div.sk-parallel-item:first-child::after {align-self: flex-end;width: 50%;}#sk-container-id-1 div.sk-parallel-item:last-child::after {align-self: flex-start;width: 50%;}#sk-container-id-1 div.sk-parallel-item:only-child::after {width: 0;}#sk-container-id-1 div.sk-dashed-wrapped {border: 1px dashed gray;margin: 0 0.4em 0.5em 0.4em;box-sizing: border-box;padding-bottom: 0.4em;background-color: white;}#sk-container-id-1 div.sk-label label {font-family: monospace;font-weight: bold;display: inline-block;line-height: 1.2em;}#sk-container-id-1 div.sk-label-container {text-align: center;}#sk-container-id-1 div.sk-container {/* jupyter's `normalize.less` sets `[hidden] { display: none; }` but bootstrap.min.css set `[hidden] { display: none !important; }` so we also need the `!important` here to be able to override the default hidden behavior on the sphinx rendered scikit-learn.org. See: https://github.com/scikit-learn/scikit-learn/issues/21755 */display: inline-block !important;position: relative;}#sk-container-id-1 div.sk-text-repr-fallback {display: none;}</style><div id=\"sk-container-id-1\" class=\"sk-top-container\"><div class=\"sk-text-repr-fallback\"><pre>RandomizedSearchCV(cv=5, estimator=RandomForestClassifier(n_estimators=200),\n",
       "                   n_iter=20,\n",
       "                   param_distributions={&#x27;bootstrap&#x27;: [True, False],\n",
       "                                        &#x27;class_weight&#x27;: [&#x27;balanced&#x27;,\n",
       "                                                         &#x27;balanced_subsample&#x27;,\n",
       "                                                         None],\n",
       "                                        &#x27;criterion&#x27;: [&#x27;gini&#x27;, &#x27;entropy&#x27;],\n",
       "                                        &#x27;max_depth&#x27;: [3, None],\n",
       "                                        &#x27;min_samples_split&#x27;: &lt;scipy.stats._distn_infrastructure.rv_discrete_frozen object at 0x0000025EBE3B5910&gt;},\n",
       "                   return_train_score=True)</pre><b>In a Jupyter environment, please rerun this cell to show the HTML representation or trust the notebook. <br />On GitHub, the HTML representation is unable to render, please try loading this page with nbviewer.org.</b></div><div class=\"sk-container\" hidden><div class=\"sk-item sk-dashed-wrapped\"><div class=\"sk-label-container\"><div class=\"sk-label sk-toggleable\"><input class=\"sk-toggleable__control sk-hidden--visually\" id=\"sk-estimator-id-1\" type=\"checkbox\" ><label for=\"sk-estimator-id-1\" class=\"sk-toggleable__label sk-toggleable__label-arrow\">RandomizedSearchCV</label><div class=\"sk-toggleable__content\"><pre>RandomizedSearchCV(cv=5, estimator=RandomForestClassifier(n_estimators=200),\n",
       "                   n_iter=20,\n",
       "                   param_distributions={&#x27;bootstrap&#x27;: [True, False],\n",
       "                                        &#x27;class_weight&#x27;: [&#x27;balanced&#x27;,\n",
       "                                                         &#x27;balanced_subsample&#x27;,\n",
       "                                                         None],\n",
       "                                        &#x27;criterion&#x27;: [&#x27;gini&#x27;, &#x27;entropy&#x27;],\n",
       "                                        &#x27;max_depth&#x27;: [3, None],\n",
       "                                        &#x27;min_samples_split&#x27;: &lt;scipy.stats._distn_infrastructure.rv_discrete_frozen object at 0x0000025EBE3B5910&gt;},\n",
       "                   return_train_score=True)</pre></div></div></div><div class=\"sk-parallel\"><div class=\"sk-parallel-item\"><div class=\"sk-item\"><div class=\"sk-label-container\"><div class=\"sk-label sk-toggleable\"><input class=\"sk-toggleable__control sk-hidden--visually\" id=\"sk-estimator-id-2\" type=\"checkbox\" ><label for=\"sk-estimator-id-2\" class=\"sk-toggleable__label sk-toggleable__label-arrow\">estimator: RandomForestClassifier</label><div class=\"sk-toggleable__content\"><pre>RandomForestClassifier(n_estimators=200)</pre></div></div></div><div class=\"sk-serial\"><div class=\"sk-item\"><div class=\"sk-estimator sk-toggleable\"><input class=\"sk-toggleable__control sk-hidden--visually\" id=\"sk-estimator-id-3\" type=\"checkbox\" ><label for=\"sk-estimator-id-3\" class=\"sk-toggleable__label sk-toggleable__label-arrow\">RandomForestClassifier</label><div class=\"sk-toggleable__content\"><pre>RandomForestClassifier(n_estimators=200)</pre></div></div></div></div></div></div></div></div></div></div>"
      ],
      "text/plain": [
       "RandomizedSearchCV(cv=5, estimator=RandomForestClassifier(n_estimators=200),\n",
       "                   n_iter=20,\n",
       "                   param_distributions={'bootstrap': [True, False],\n",
       "                                        'class_weight': ['balanced',\n",
       "                                                         'balanced_subsample',\n",
       "                                                         None],\n",
       "                                        'criterion': ['gini', 'entropy'],\n",
       "                                        'max_depth': [3, None],\n",
       "                                        'min_samples_split': <scipy.stats._distn_infrastructure.rv_discrete_frozen object at 0x0000025EBE3B5910>},\n",
       "                   return_train_score=True)"
      ]
     },
     "execution_count": 192,
     "metadata": {},
     "output_type": "execute_result"
    }
   ],
   "source": [
    "random_search.fit(features_train_lda, train_y)"
   ]
  },
  {
   "cell_type": "code",
   "execution_count": 193,
   "id": "c516b220",
   "metadata": {},
   "outputs": [
    {
     "name": "stdout",
     "output_type": "stream",
     "text": [
      "dict_keys(['mean_fit_time', 'std_fit_time', 'mean_score_time', 'std_score_time', 'param_bootstrap', 'param_class_weight', 'param_criterion', 'param_max_depth', 'param_min_samples_split', 'params', 'split0_test_score', 'split1_test_score', 'split2_test_score', 'split3_test_score', 'split4_test_score', 'mean_test_score', 'std_test_score', 'rank_test_score', 'split0_train_score', 'split1_train_score', 'split2_train_score', 'split3_train_score', 'split4_train_score', 'mean_train_score', 'std_train_score'])\n"
     ]
    }
   ],
   "source": [
    "print(random_search.cv_results_.keys())"
   ]
  },
  {
   "cell_type": "code",
   "execution_count": 194,
   "id": "91a28994",
   "metadata": {},
   "outputs": [],
   "source": [
    "a1 = random_search.cv_results_['param_bootstrap']\n",
    "a2 = random_search.cv_results_['param_class_weight']\n",
    "a3 = random_search.cv_results_['param_criterion']\n",
    "a4 = random_search.cv_results_['param_max_depth']\n",
    "a5 = random_search.cv_results_['param_min_samples_split']\n",
    "\n",
    "a6 = random_search.cv_results_['mean_train_score']\n",
    "a7 = random_search.cv_results_['mean_test_score']"
   ]
  },
  {
   "cell_type": "code",
   "execution_count": 195,
   "id": "1888890e",
   "metadata": {},
   "outputs": [
    {
     "name": "stdout",
     "output_type": "stream",
     "text": [
      "{'bootstrap': True, 'class_weight': None, 'criterion': 'gini', 'max_depth': None, 'min_samples_split': 10}\n"
     ]
    }
   ],
   "source": [
    "print(random_search.best_params_)"
   ]
  },
  {
   "cell_type": "code",
   "execution_count": 196,
   "id": "1cc3598b",
   "metadata": {},
   "outputs": [
    {
     "name": "stdout",
     "output_type": "stream",
     "text": [
      "['bootstrap', 'class_weight', 'criterion', 'max_depth', 'min_samples_split', 'mean_train_score', 'mean_test_score']\n"
     ]
    }
   ],
   "source": [
    "arr = []\n",
    "for key in random_search.best_params_.keys():\n",
    "    arr.append(key)\n",
    "    \n",
    "arr.append('mean_train_score')\n",
    "arr.append('mean_test_score')\n",
    "print(arr)"
   ]
  },
  {
   "cell_type": "code",
   "execution_count": 197,
   "id": "0d633f5c",
   "metadata": {},
   "outputs": [],
   "source": [
    "write_csv('output/random_forest.csv', a1, a2, a3, a4, a5, a6, a7, arr)"
   ]
  },
  {
   "cell_type": "code",
   "execution_count": 198,
   "id": "12fc1463",
   "metadata": {},
   "outputs": [],
   "source": [
    "#np.savez('output/random_forest.npz', a1=a1, a2=a2, a3=a3, a4=a4, a5=a5, a6=a6, a7=a7, arr=arr)"
   ]
  },
  {
   "cell_type": "code",
   "execution_count": 199,
   "id": "4938805f",
   "metadata": {},
   "outputs": [
    {
     "data": {
      "text/plain": [
       "0.8582766439909297"
      ]
     },
     "execution_count": 199,
     "metadata": {},
     "output_type": "execute_result"
    }
   ],
   "source": [
    "y1 = random_search.predict(features_val_lda)\n",
    "metrics.accuracy_score(y1, val_y)"
   ]
  },
  {
   "cell_type": "markdown",
   "id": "e13a8bcb",
   "metadata": {},
   "source": [
    "Confusion Matrix"
   ]
  },
  {
   "cell_type": "code",
   "execution_count": 200,
   "id": "84dde179",
   "metadata": {},
   "outputs": [],
   "source": [
    "y_hat1 = model1.predict(features_val)\n",
    "y_hat2 = model2.predict(features_val)\n",
    "y_hat3 = model3.predict(features_val)\n",
    "y_hat4 = model4.predict(features_val)\n",
    "y_hat5 = model5.predict(features_val)\n",
    "y_hat6 = model6.predict(features_val)\n",
    "y_hat7 = model7.predict(features_val)"
   ]
  },
  {
   "cell_type": "code",
   "execution_count": 201,
   "id": "431f22aa",
   "metadata": {},
   "outputs": [],
   "source": [
    "class MetricTools:\n",
    "    @staticmethod\n",
    "    def accuracy(y, y_hat):\n",
    "        \"\"\"\n",
    "        y [np array]: actual labels\n",
    "        y_hat [np array]: predicted labels\n",
    "        \n",
    "        return: accuracy between 0 and 1\n",
    "        \"\"\"\n",
    "        return np.sum(y == y_hat) / len(y)\n",
    "    \n",
    "    @staticmethod\n",
    "    def prec_recall(y, y_hat, nclasses):\n",
    "        \"\"\"\n",
    "        y [np array]: actual labels\n",
    "        y_hat [np array]: predicted labels\n",
    "        nclasses [integer]: number of classes in the dataset.\n",
    "        \n",
    "        return: precision, recall\n",
    "        \"\"\"\n",
    "        cm = MetricTools.confusion_matrix(y, y_hat, nclasses)\n",
    "        \n",
    "        rec = cm[0,0] / np.sum(cm[0,:])\n",
    "        prec = cm[0,0] / np.sum(cm[:,0])\n",
    "        \n",
    "        return prec, rec\n",
    "    \n",
    "    @staticmethod\n",
    "    def confusion_matrix(y, y_hat, nclasses):\n",
    "        \"\"\"\n",
    "        y [np array]: actual labels [values between 0 to nclasses-1]\n",
    "        y_hat [np array]: predicted labels [values between 0 to nclasses-1]\n",
    "        nclasses [integer]: number of classes in the dataset.\n",
    "        \n",
    "        return: confusion matrix of shape [nclasses, nclasses]\n",
    "        \"\"\"\n",
    "        y = y.astype(np.int64)\n",
    "        y_hat = y_hat.astype(np.int64)\n",
    "\n",
    "        conf_mat = np.zeros((nclasses, nclasses))\n",
    "\n",
    "        for i in range(y_hat.shape[0]):\n",
    "            true, pred = y[i], y_hat[i]\n",
    "            conf_mat[true, pred] += 1\n",
    "\n",
    "        return conf_mat\n",
    "    \n",
    "    @staticmethod\n",
    "    def roc_curve(probs, test_y, label, is_log_prob=True):\n",
    "        \"\"\"\n",
    "        probs: Default Log-Posteriors log(P(C_label/x)) for class label. \n",
    "               Could be normal probs if is_log_prob = False.\n",
    "        test_y: actual labels of test data.\n",
    "        label: Class for which ROC is to be formed.\n",
    "        is_log_prob: Tells if probs is log-prob or not\n",
    "        \n",
    "        return: False Positive Rate (FPR), True Positive Rate (TPR) for the given values\n",
    "        \"\"\"\n",
    "        thresholds = np.linspace(0, 1, num=100)\n",
    "\n",
    "        x = []\n",
    "        y = []\n",
    "\n",
    "        if is_log_prob:\n",
    "            probs = np.exp(probs)\n",
    "        \n",
    "        min_val = np.min(probs)\n",
    "        max_val = np.max(probs)\n",
    "\n",
    "        for thresh in thresholds:\n",
    "            conf_mat = np.zeros((2,2))\n",
    "            pred = None\n",
    "            actual = None\n",
    "            for i in range(test_y.shape[0]):\n",
    "                if (probs[i] - min_val) / (max_val - min_val) > thresh:\n",
    "                    pred = 0\n",
    "                else:\n",
    "                    pred = 1\n",
    "\n",
    "                if test_y[i] == label:\n",
    "                    actual = 0\n",
    "                else:\n",
    "                    actual = 1\n",
    "                conf_mat[actual, pred] += 1\n",
    "\n",
    "            fpr = conf_mat[1, 0] / np.sum(conf_mat[1, :])\n",
    "            tpr = conf_mat[0, 0] / np.sum(conf_mat[0, :])\n",
    "\n",
    "            x.append(fpr)\n",
    "            y.append(tpr)\n",
    "\n",
    "        return x, y"
   ]
  },
  {
   "cell_type": "code",
   "execution_count": 202,
   "id": "46b8e6a4",
   "metadata": {},
   "outputs": [],
   "source": [
    "cm1 = MetricTools.confusion_matrix(val_y, y_hat1, 2)\n",
    "cm2 = MetricTools.confusion_matrix(val_y, y_hat2, 2)\n",
    "cm3 = MetricTools.confusion_matrix(val_y, y_hat3, 2)\n",
    "cm4 = MetricTools.confusion_matrix(val_y, y_hat4, 2)\n",
    "cm5 = MetricTools.confusion_matrix(val_y, y_hat5, 2)\n",
    "cm6 = MetricTools.confusion_matrix(val_y, y_hat6, 2)\n",
    "cm7 = MetricTools.confusion_matrix(val_y, y_hat7, 2)"
   ]
  },
  {
   "cell_type": "code",
   "execution_count": 203,
   "id": "95d4cbfb",
   "metadata": {},
   "outputs": [
    {
     "name": "stdout",
     "output_type": "stream",
     "text": [
      "[[1950.  251.]\n",
      " [ 266. 1943.]]\n",
      "[[1975.  226.]\n",
      " [ 258. 1951.]]\n",
      "[[1916.  285.]\n",
      " [ 266. 1943.]]\n",
      "[[1059. 1142.]\n",
      " [ 193. 2016.]]\n",
      "[[1890.  311.]\n",
      " [ 256. 1953.]]\n",
      "[[2002.  199.]\n",
      " [ 175. 2034.]]\n",
      "[[1605.  596.]\n",
      " [ 353. 1856.]]\n"
     ]
    }
   ],
   "source": [
    "print(cm1)\n",
    "print(cm2)\n",
    "print(cm3)\n",
    "print(cm4)\n",
    "print(cm5)\n",
    "print(cm6)\n",
    "print(cm7)"
   ]
  },
  {
   "cell_type": "code",
   "execution_count": 204,
   "id": "e0a79ded",
   "metadata": {},
   "outputs": [],
   "source": [
    "class PlotTools:\n",
    "    @staticmethod\n",
    "    def confusion_matrix(cm, classes, title='Confusion matrix', cmap=plt.cm.Blues, figsize=(7,7), path=None, filename=None):\n",
    "        \"\"\"\n",
    "        cm: confusion matrix to be plotted.\n",
    "        classes: array of labels or class names.\n",
    "        title: title of the confusion matrix.\n",
    "        cmap: color of the plot matrix.\n",
    "        figsize: tupple (width, height) representiong size of the plot.\n",
    "        path: destination where the plot image will be saved.\n",
    "        filename: name to save the file with on the specified path. (if None, title is used)\n",
    "        \n",
    "        # Source: https://scikit-learn.org/stable/auto_examples/model_selection/plot_confusion_matrix.html\n",
    "        \"\"\"\n",
    "        cm = cm.astype(np.int64)\n",
    "        plt.figure(figsize=figsize)\n",
    "        plt.imshow(cm, interpolation='nearest', cmap=cmap)\n",
    "        plt.title(title)\n",
    "        plt.colorbar()\n",
    "        tick_marks = np.arange(len(classes))\n",
    "        plt.xticks(tick_marks, classes, rotation=45)\n",
    "        plt.yticks(tick_marks, classes)\n",
    "\n",
    "        fmt = 'd'\n",
    "        thresh = cm.max() / 2.\n",
    "        for i, j in itertools.product(range(cm.shape[0]), range(cm.shape[1])):\n",
    "            plt.text(j, i, format(cm[i, j], fmt),\n",
    "                     horizontalalignment=\"center\",\n",
    "                     color=\"white\" if cm[i, j] > thresh else \"black\")\n",
    "\n",
    "        plt.ylabel('True label')\n",
    "        plt.xlabel('Predicted label')\n",
    "        plt.tight_layout()\n",
    "        \n",
    "        if path:\n",
    "            if filename is None:\n",
    "                plt.savefig(path + title + '.png')\n",
    "            else:\n",
    "                plt.savefig(path + filename + '.png')\n",
    "        plt.show()\n",
    "                \n",
    "    @staticmethod\n",
    "    def roc_curves(rocs, title, figsize=(8,5), path=None, filename=None):\n",
    "        \"\"\"\n",
    "        rocs: Dictionary of the form {'label': [FPR, TPR]} containing multiple ROC values.\n",
    "              where FPR = False positive rate; TPR = True positive rate\n",
    "              label = Title for which the ROC values are given\n",
    "        title: Title of the plot\n",
    "        figsize: tupple (width, height) representiong size of the plot.\n",
    "        path: destination where the plot image will be saved.\n",
    "        filename: name to save the file with on the specified path. (if None, title is used)\n",
    "        \"\"\"\n",
    "        plt.figure(figsize=figsize)\n",
    "        for l, roc in rocs.items():\n",
    "            plt.plot(roc[0], roc[1], label=l)\n",
    "\n",
    "        plt.xlabel('FPR')\n",
    "        plt.ylabel('TPR')\n",
    "        plt.xlim((-0.05, 1.08))\n",
    "        plt.title(title)\n",
    "        plt.legend()\n",
    "        \n",
    "        if path:\n",
    "            if filename is None:\n",
    "                plt.savefig(path + title + '.png')\n",
    "            else:\n",
    "                plt.savefig(path + filename + '.png')\n",
    "        plt.show()\n",
    "\n",
    "    @staticmethod\n",
    "    def table(data, row_index, col_index, title, figsize=(8,3), col_widths=[0.5], path=None, filename=None):\n",
    "        \"\"\"\n",
    "        Plots the data in tabular format.\n",
    "        \n",
    "        data: 2d array data for the table to be plotted.\n",
    "        row_index: Headers for Rows of the table.\n",
    "        col_index: Headers for Columns of the table.\n",
    "        title: Title of the table.\n",
    "        figsize: tupple (width, height) representiong size of the plot.\n",
    "        col_widths: width of each column in the table.\n",
    "        path: destination where the plot image will be saved.\n",
    "        filename: name to save the file with on the specified path. (if None, title is used)\n",
    "        \"\"\"\n",
    "        df = pd.DataFrame(data)\n",
    "        plt.figure(figsize=figsize)\n",
    "        ax = plt.subplot(111, frame_on=False) \n",
    "        ax.xaxis.set_visible(False)  \n",
    "        ax.yaxis.set_visible(False)\n",
    "        plt.title(title)\n",
    "        table(ax, df, loc='upper right', rowLabels=row_index, colLabels=col_index, colWidths=col_widths)\n",
    "        if path:\n",
    "            if filename is None:\n",
    "                plt.savefig(path + title + '.png')\n",
    "            else:\n",
    "                plt.savefig(path + filename + '.png')\n",
    "        plt.show()"
   ]
  },
  {
   "cell_type": "code",
   "execution_count": 205,
   "id": "1fb945c1",
   "metadata": {},
   "outputs": [
    {
     "data": {
      "image/png": "[encoded data removed]",
      "text/plain": [
       "<Figure size 700x700 with 2 Axes>"
      ]
     },
     "metadata": {},
     "output_type": "display_data"
    }
   ],
   "source": [
    "PlotTools.confusion_matrix(cm1, list(range(2)))\n"
   ]
  },
  {
   "cell_type": "code",
   "execution_count": 206,
   "id": "7b27b65e",
   "metadata": {},
   "outputs": [
    {
     "data": {
      "text/plain": [
       "((17636, 30), (4410, 30))"
      ]
     },
     "execution_count": 206,
     "metadata": {},
     "output_type": "execute_result"
    }
   ],
   "source": [
    "features_train1 = None\n",
    "features_val1 = None\n",
    "evs = []\n",
    "for ft, fv in zip([pca_hist_train, pca_hog_train, pca_lbp_train], \n",
    "                  [pca_hist_val, pca_hog_val, pca_lbp_val]):    \n",
    "#     scaler = preprocessing.StandardScaler()\n",
    "#     ft = scaler.fit_transform(ft)\n",
    "#     fv = scaler.transform(fv)\n",
    "#     ft = preprocessing.normalize(ft)\n",
    "#     fv = preprocessing.normalize(fv)\n",
    "    if features_train1 is None:\n",
    "        features_train1 = ft\n",
    "        features_val1 = fv\n",
    "    else:\n",
    "        features_train1 = combine_features([features_train1, ft])\n",
    "        features_val1 = combine_features([features_val1, fv])\n",
    "features_train1.shape, features_val1.shape"
   ]
  },
  {
   "cell_type": "code",
   "execution_count": 207,
   "id": "1e83060c",
   "metadata": {},
   "outputs": [
    {
     "name": "stdout",
     "output_type": "stream",
     "text": [
      "Validation Accuracy in 'XGB' = 0.909297052154195\n",
      "[[2001  200]\n",
      " [ 200 2009]]\n",
      "Recall in 'XGB' = 0.9091322126306225\n",
      "Precision in 'XGB' = 0.9091322126306225\n",
      "F1 Score in 'XGB' = 0.9091322126306225\n"
     ]
    }
   ],
   "source": [
    "model1 = train_model(features_train1, train_y, model_name='XGB', validation=(features_val1, val_y))\n",
    "prob1 = model1.predict_proba(features_val1)"
   ]
  },
  {
   "cell_type": "code",
   "execution_count": 208,
   "id": "397f8bd5",
   "metadata": {},
   "outputs": [
    {
     "data": {
      "text/plain": [
       "((17636, 26), (4410, 26))"
      ]
     },
     "execution_count": 208,
     "metadata": {},
     "output_type": "execute_result"
    }
   ],
   "source": [
    "features_train2 = None\n",
    "features_val2 = None\n",
    "evs = []\n",
    "for ft, fv in zip([pca_hist_train, pca_flat_gray_train, pca_flat_rgb_train], \n",
    "                  [pca_hist_val, pca_flat_gray_val, pca_flat_rgb_val]):    \n",
    "#     scaler = preprocessing.StandardScaler()\n",
    "#     ft = scaler.fit_transform(ft)\n",
    "#     fv = scaler.transform(fv)\n",
    "#     ft = preprocessing.normalize(ft)\n",
    "#     fv = preprocessing.normalize(fv)\n",
    "    if features_train2 is None:\n",
    "        features_train2 = ft\n",
    "        features_val2 = fv\n",
    "    else:\n",
    "        features_train2 = combine_features([features_train2, ft])\n",
    "        features_val2 = combine_features([features_val2, fv])\n",
    "features_train2.shape, features_val2.shape"
   ]
  },
  {
   "cell_type": "code",
   "execution_count": 209,
   "id": "db1d2da4",
   "metadata": {},
   "outputs": [
    {
     "name": "stdout",
     "output_type": "stream",
     "text": [
      "Validation Accuracy in 'XGB' = 0.8791383219954648\n",
      "[[1867  334]\n",
      " [ 199 2010]]\n",
      "Recall in 'XGB' = 0.8482507950931395\n",
      "Precision in 'XGB' = 0.9036786060019361\n",
      "F1 Score in 'XGB' = 0.8750878837590813\n"
     ]
    }
   ],
   "source": [
    "model2 = train_model(features_train2, train_y, model_name='XGB', validation=(features_val2, val_y))\n",
    "prob2 = model2.predict_proba(features_val2)"
   ]
  },
  {
   "cell_type": "code",
   "execution_count": 210,
   "id": "ce4cc935",
   "metadata": {},
   "outputs": [
    {
     "data": {
      "text/plain": [
       "((17636, 15), (4410, 15))"
      ]
     },
     "execution_count": 210,
     "metadata": {},
     "output_type": "execute_result"
    }
   ],
   "source": [
    "features_train3 = None\n",
    "features_val3 = None\n",
    "evs = []\n",
    "for ft, fv in zip([pca_kaze_train, pca_sift_train], \n",
    "                  [pca_kaze_val, pca_sift_val]):    \n",
    "#     scaler = preprocessing.StandardScaler()\n",
    "#     ft = scaler.fit_transform(ft)\n",
    "#     fv = scaler.transform(fv)\n",
    "#     ft = preprocessing.normalize(ft)\n",
    "#     fv = preprocessing.normalize(fv)\n",
    "    if features_train3 is None:\n",
    "        features_train3 = ft\n",
    "        features_val3 = fv\n",
    "    else:\n",
    "        features_train3 = combine_features([features_train3, ft])\n",
    "        features_val3 = combine_features([features_val3, fv])\n",
    "features_train3.shape, features_val3.shape"
   ]
  },
  {
   "cell_type": "code",
   "execution_count": 211,
   "id": "33300e65",
   "metadata": {},
   "outputs": [
    {
     "name": "stdout",
     "output_type": "stream",
     "text": [
      "Validation Accuracy in 'XGB' = 0.7578231292517007\n",
      "[[1504  697]\n",
      " [ 371 1838]]\n",
      "Recall in 'XGB' = 0.6833257610177192\n",
      "Precision in 'XGB' = 0.8021333333333334\n",
      "F1 Score in 'XGB' = 0.7379784102060843\n"
     ]
    }
   ],
   "source": [
    "model3 = train_model(features_train3, train_y, model_name='XGB', validation=(features_val3, val_y))\n",
    "prob3 = model3.predict_proba(features_val3)"
   ]
  },
  {
   "cell_type": "code",
   "execution_count": 212,
   "id": "b5ca688f",
   "metadata": {},
   "outputs": [],
   "source": [
    "prob1 = model1.predict_proba(features_val1)\n",
    "prob2 = model2.predict_proba(features_val2)\n",
    "prob3 = model3.predict_proba(features_val3)\n",
    "#prob4 = model4.predict_proba(features_val4)\n",
    "#prob5 = model5.score(features_val, )\n",
    "#prob6 = model6.predict_proba(features_val6)"
   ]
  },
  {
   "cell_type": "code",
   "execution_count": 213,
   "id": "47da0f1c",
   "metadata": {},
   "outputs": [],
   "source": [
    "prob = (prob1 + prob2 + prob3 + prob4 + prob6) / 5\n",
    "y_hat = np.argmax(prob, axis=1)"
   ]
  },
  {
   "cell_type": "code",
   "execution_count": 214,
   "id": "9688fb5e",
   "metadata": {},
   "outputs": [
    {
     "data": {
      "text/plain": [
       "0.9052154195011338"
      ]
     },
     "execution_count": 214,
     "metadata": {},
     "output_type": "execute_result"
    }
   ],
   "source": [
    "metrics.accuracy_score(val_y, y_hat)\n"
   ]
  },
  {
   "cell_type": "code",
   "execution_count": null,
   "id": "3839898a",
   "metadata": {},
   "outputs": [],
   "source": []
  }
 ],
 "metadata": {
  "kernelspec": {
   "display_name": "Python 3 (ipykernel)",
   "language": "python",
   "name": "python3"
  },
  "language_info": {
   "codemirror_mode": {
    "name": "ipython",
    "version": 3
   },
   "file_extension": ".py",
   "mimetype": "text/x-python",
   "name": "python",
   "nbconvert_exporter": "python",
   "pygments_lexer": "ipython3",
   "version": "3.9.18"
  }
 },
 "nbformat": 4,
 "nbformat_minor": 5
}
